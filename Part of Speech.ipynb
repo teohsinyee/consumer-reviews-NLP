{
  "nbformat": 4,
  "nbformat_minor": 0,
  "metadata": {
    "colab": {
      "name": "NLP ASSN 1 (POS).ipynb",
      "provenance": []
    },
    "kernelspec": {
      "name": "python3",
      "display_name": "Python 3"
    },
    "language_info": {
      "name": "python"
    }
  },
  "cells": [
    {
      "cell_type": "markdown",
      "source": [
        "# Sentiment Analysis of Foodpanda's consumer reviews\n",
        "\n",
        "**Source:** *Google Playstore* <br>\n",
        "\n",
        "```\n",
        "Author: Teoh Sin Yee\n",
        "Author: Wan Muhamad Rusyaidi Afifi\n",
        "```\n"
      ],
      "metadata": {
        "id": "UPgRI2esoOa8"
      }
    },
    {
      "cell_type": "code",
      "metadata": {
        "id": "lhcevbRL7lzP"
      },
      "source": [
        "# General packages\n",
        "import numpy as np\n",
        "import pandas as pd\n",
        "import seaborn as sns\n",
        "import matplotlib.pyplot as plt\n",
        "import os\n",
        "\n",
        "# NLP packages\n",
        "import nltk\n",
        "from nltk import word_tokenize\n",
        "from sklearn.feature_extraction.text import CountVectorizer\n",
        "from sklearn.feature_extraction.text import TfidfVectorizer\n",
        "from collections import Counter\n",
        "from wordcloud import WordCloud\n",
        "\n",
        "# Modeling packages\n",
        "from sklearn.model_selection import train_test_split\n",
        "from sklearn.linear_model import LogisticRegression\n",
        "from sklearn.ensemble import RandomForestClassifier\n",
        "from sklearn.metrics import accuracy_score\n",
        "from sklearn.metrics import f1_score\n",
        "\n",
        "from pylab import rcParams\n",
        "import warnings\n",
        "warnings.filterwarnings(\"ignore\")\n",
        "rcParams['figure.figsize'] = 14, 6\n",
        "plt.style.use('ggplot')"
      ],
      "execution_count": null,
      "outputs": []
    },
    {
      "cell_type": "code",
      "metadata": {
        "colab": {
          "base_uri": "https://localhost:8080/"
        },
        "id": "d9VW3VO17wSH",
        "outputId": "bb3411c7-ecdb-4389-fd32-63974170e5ca"
      },
      "source": [
        "from google.colab import drive\n",
        "drive.mount('/content/drive/')"
      ],
      "execution_count": null,
      "outputs": [
        {
          "output_type": "stream",
          "name": "stdout",
          "text": [
            "Drive already mounted at /content/drive/; to attempt to forcibly remount, call drive.mount(\"/content/drive/\", force_remount=True).\n"
          ]
        }
      ]
    },
    {
      "cell_type": "code",
      "metadata": {
        "colab": {
          "base_uri": "https://localhost:8080/"
        },
        "id": "wr3Q5jwE7yHJ",
        "outputId": "f778c492-5083-41cd-9a22-de994b4342ae"
      },
      "source": [
        "%cd /content/drive/My Drive/Colab Notebooks/"
      ],
      "execution_count": null,
      "outputs": [
        {
          "output_type": "stream",
          "name": "stdout",
          "text": [
            "/content/drive/My Drive/Colab Notebooks\n"
          ]
        }
      ]
    },
    {
      "cell_type": "code",
      "metadata": {
        "colab": {
          "base_uri": "https://localhost:8080/",
          "height": 265
        },
        "id": "xp5gkqdv7zpL",
        "outputId": "c8c0213f-c81a-4a9e-9837-6a1ffada01cb"
      },
      "source": [
        "foodpanda_reviews = pd.read_csv('cleandata.csv')\n",
        "foodpanda_reviews.head(3)"
      ],
      "execution_count": null,
      "outputs": [
        {
          "output_type": "execute_result",
          "data": {
            "text/html": [
              "<div>\n",
              "<style scoped>\n",
              "    .dataframe tbody tr th:only-of-type {\n",
              "        vertical-align: middle;\n",
              "    }\n",
              "\n",
              "    .dataframe tbody tr th {\n",
              "        vertical-align: top;\n",
              "    }\n",
              "\n",
              "    .dataframe thead th {\n",
              "        text-align: right;\n",
              "    }\n",
              "</style>\n",
              "<table border=\"1\" class=\"dataframe\">\n",
              "  <thead>\n",
              "    <tr style=\"text-align: right;\">\n",
              "      <th></th>\n",
              "      <th>Unnamed: 0</th>\n",
              "      <th>userName</th>\n",
              "      <th>score</th>\n",
              "      <th>at</th>\n",
              "      <th>content</th>\n",
              "      <th>Sentiment_rating</th>\n",
              "      <th>reviews_text_new</th>\n",
              "      <th>reviews_text_nonstop</th>\n",
              "      <th>Positively Rated</th>\n",
              "      <th>cleandata</th>\n",
              "    </tr>\n",
              "  </thead>\n",
              "  <tbody>\n",
              "    <tr>\n",
              "      <th>0</th>\n",
              "      <td>0</td>\n",
              "      <td>C Ds</td>\n",
              "      <td>4</td>\n",
              "      <td>22/11/2021</td>\n",
              "      <td>It's pretty good for where I live since most p...</td>\n",
              "      <td>1</td>\n",
              "      <td>it s pretty good for where i live since most p...</td>\n",
              "      <td>['pretty', 'good', 'live', 'since', 'places', ...</td>\n",
              "      <td>1</td>\n",
              "      <td>pretty good live since places foodpanda discov...</td>\n",
              "    </tr>\n",
              "    <tr>\n",
              "      <th>1</th>\n",
              "      <td>1</td>\n",
              "      <td>Gopa Banik</td>\n",
              "      <td>5</td>\n",
              "      <td>22/11/2021</td>\n",
              "      <td>So fast delivery... I can eat whatever i want..</td>\n",
              "      <td>1</td>\n",
              "      <td>so fast delivery  i can eat whatever i want</td>\n",
              "      <td>['fast', 'delivery', 'eat', 'whatever', 'want']</td>\n",
              "      <td>1</td>\n",
              "      <td>fast delivery eat whatever want</td>\n",
              "    </tr>\n",
              "    <tr>\n",
              "      <th>2</th>\n",
              "      <td>2</td>\n",
              "      <td>Blessyl Fejer</td>\n",
              "      <td>2</td>\n",
              "      <td>22/11/2021</td>\n",
              "      <td>Sometime when it comes to 50% off promo some r...</td>\n",
              "      <td>0</td>\n",
              "      <td>sometime when it comes to 50  off promo some r...</td>\n",
              "      <td>['sometime', 'comes', '50', 'promo', 'restaura...</td>\n",
              "      <td>0</td>\n",
              "      <td>sometime comes 50 promo restaurant temporarily...</td>\n",
              "    </tr>\n",
              "  </tbody>\n",
              "</table>\n",
              "</div>"
            ],
            "text/plain": [
              "   Unnamed: 0  ...                                          cleandata\n",
              "0           0  ...  pretty good live since places foodpanda discov...\n",
              "1           1  ...                    fast delivery eat whatever want\n",
              "2           2  ...  sometime comes 50 promo restaurant temporarily...\n",
              "\n",
              "[3 rows x 10 columns]"
            ]
          },
          "metadata": {},
          "execution_count": 16
        }
      ]
    },
    {
      "cell_type": "markdown",
      "metadata": {
        "id": "bu8txEMieBBK"
      },
      "source": [
        "#POS (Use Spacy)\n",
        "\n",
        "Extract Top 10 postive & negative of:\n",
        "\n",
        "1.   noun- NOUN\n",
        "2.   adjective - ADJ\n",
        "3.   verb - VERB\n",
        "4.   adverb - ADV"
      ]
    },
    {
      "cell_type": "code",
      "metadata": {
        "id": "w8zNGNdbzlFy"
      },
      "source": [
        "#top 10 part of speech table\n",
        "top10_pos = pd.DataFrame(columns = ['id'])\n",
        "top10_pos['id']= [1,2,3,4,5,6,7,8,9,10]"
      ],
      "execution_count": null,
      "outputs": []
    },
    {
      "cell_type": "markdown",
      "metadata": {
        "id": "sUJkwdoQ12Ga"
      },
      "source": [
        "##Adjectives\n"
      ]
    },
    {
      "cell_type": "markdown",
      "metadata": {
        "id": "_ZgZuH8x15O4"
      },
      "source": [
        ""
      ]
    },
    {
      "cell_type": "code",
      "metadata": {
        "id": "udhXRxpze0D6"
      },
      "source": [
        "import spacy\n",
        "\n",
        "nlp = spacy.load(\"en_core_web_sm\")\n",
        "words_adj = []\n",
        "\n",
        "for line in foodpanda_reviews['cleandata']:\n",
        "  doc = nlp(line)\n",
        "  tokens = [tok.lemma_.lower().strip() for tok in doc if tok.pos_ == 'ADJ']\n",
        "  words_adj.append(tokens)"
      ],
      "execution_count": null,
      "outputs": []
    },
    {
      "cell_type": "code",
      "metadata": {
        "id": "0RHXygHhiTma"
      },
      "source": [
        "#Then, we need to transform this list into a new column back to our data frame:\n",
        "foodpanda_reviews['words_adj'] = pd.Series(words_adj)\n"
      ],
      "execution_count": null,
      "outputs": []
    },
    {
      "cell_type": "markdown",
      "metadata": {
        "id": "_DxGOLAqiyNG"
      },
      "source": [
        "Finally, using some python basics, we can select the most common adjectives used in positive and negative reviews:"
      ]
    },
    {
      "cell_type": "code",
      "metadata": {
        "id": "Pt8FfCzOtx05",
        "colab": {
          "base_uri": "https://localhost:8080/"
        },
        "outputId": "14d44cfd-df85-4ef3-c494-83983c174d13"
      },
      "source": [
        "foodpanda_reviews[foodpanda_reviews['Sentiment_rating']==1]['words_adj']"
      ],
      "execution_count": null,
      "outputs": [
        {
          "output_type": "execute_result",
          "data": {
            "text/plain": [
              "0       [good, favorite, little, diaappointing, unavai...\n",
              "1                                                  [fast]\n",
              "4                                      [nice, good, fast]\n",
              "5                                                      []\n",
              "8                         [small, previous, shift, small]\n",
              "                              ...                        \n",
              "9000         [well, online, well, good, online, reliable]\n",
              "9001                                      [many, chinese]\n",
              "9002                  [useful, easy, navigate, many, low]\n",
              "9011                                    [good, satisfied]\n",
              "9012                                   [favorite, online]\n",
              "Name: words_adj, Length: 3825, dtype: object"
            ]
          },
          "metadata": {},
          "execution_count": 20
        }
      ]
    },
    {
      "cell_type": "code",
      "metadata": {
        "id": "r2QV0KNDvocp",
        "colab": {
          "base_uri": "https://localhost:8080/"
        },
        "outputId": "6d6ab47e-c600-4b2e-c335-f20e4113f846"
      },
      "source": [
        "negative = foodpanda_reviews[foodpanda_reviews['Sentiment_rating']==0]\n",
        "file_name = 'negative.xlsx'\n",
        "# saving the excel\n",
        "negative.to_excel(file_name)\n",
        "print('DataFrame is written to Excel File successfully.')\n",
        "\n",
        "positive = foodpanda_reviews[foodpanda_reviews['Sentiment_rating']==1]\n",
        "file_name = 'positive.xlsx'\n",
        "# saving the excel\n",
        "positive.to_excel(file_name)\n",
        "print('DataFrame is written to Excel File successfully.')  \n"
      ],
      "execution_count": null,
      "outputs": [
        {
          "output_type": "stream",
          "name": "stdout",
          "text": [
            "DataFrame is written to Excel File successfully.\n",
            "DataFrame is written to Excel File successfully.\n"
          ]
        }
      ]
    },
    {
      "cell_type": "code",
      "metadata": {
        "id": "2oBl5qzIitAR",
        "colab": {
          "base_uri": "https://localhost:8080/"
        },
        "outputId": "5593da4f-e4ad-4116-aa1c-ed01ad9673fd"
      },
      "source": [
        "#positive adjectives\n",
        "\n",
        "foodpanda_reviews['adj_pos']= foodpanda_reviews[foodpanda_reviews['Sentiment_rating']==1]['words_adj']\n",
        "foodpanda_reviews['adj_pos'].tolist()\n",
        "\n",
        "#SOMETHING WRONG HERE\n",
        "from ast import literal_eval\n",
        "pos_adj = foodpanda_reviews['adj_pos'].explode()\n",
        "pos_adj = pos_adj.dropna()\n",
        "pos_adj_count = Counter(pos_adj).most_common(10)\n",
        "print (pos_adj_count)\n",
        "#SOMETHING WRONG HERE\n",
        "\n",
        "df = pd.DataFrame (pos_adj_count, columns = ['adjectives_pos','Counts'])\n",
        "df.drop(columns='Counts')\n",
        "\n",
        "top10_pos['adjectives_pos'] = df['adjectives_pos']"
      ],
      "execution_count": null,
      "outputs": [
        {
          "output_type": "stream",
          "name": "stdout",
          "text": [
            "[('good', 1224), ('easy', 655), ('great', 326), ('fast', 231), ('convenient', 203), ('nice', 146), ('many', 130), ('friendly', 116), ('helpful', 109), ('available', 101)]\n"
          ]
        }
      ]
    },
    {
      "cell_type": "code",
      "metadata": {
        "id": "uFmIpDWUyxih",
        "colab": {
          "base_uri": "https://localhost:8080/"
        },
        "outputId": "81f8813a-882d-4752-fda3-9760a4e93def"
      },
      "source": [
        "#negative adjectives\n",
        "\n",
        "foodpanda_reviews['adj_neg']= foodpanda_reviews[foodpanda_reviews['Sentiment_rating']==0]['words_adj']\n",
        "foodpanda_reviews['adj_neg'].tolist()\n",
        "\n",
        "from ast import literal_eval\n",
        "neg_adj = foodpanda_reviews['adj_neg'].explode()\n",
        "neg_adj = neg_adj.dropna()\n",
        "neg_adj_count = Counter(neg_adj).most_common(10)\n",
        "print (neg_adj_count)\n",
        "\n",
        "df = pd.DataFrame (neg_adj_count, columns = ['adjectives_neg','Counts'])\n",
        "df.drop(columns='Counts')\n",
        "\n",
        "top10_pos['adjectives_neg'] = df['adjectives_neg']"
      ],
      "execution_count": null,
      "outputs": [
        {
          "output_type": "stream",
          "name": "stdout",
          "text": [
            "[('bad', 987), ('good', 340), ('many', 308), ('wrong', 274), ('poor', 216), ('available', 211), ('high', 200), ('online', 183), ('expensive', 165), ('late', 157)]\n"
          ]
        }
      ]
    },
    {
      "cell_type": "markdown",
      "metadata": {
        "id": "74KuzzgU2SXz"
      },
      "source": [
        "##Verb\n"
      ]
    },
    {
      "cell_type": "code",
      "metadata": {
        "id": "RGiThbF12SXz"
      },
      "source": [
        "import spacy\n",
        "\n",
        "nlp = spacy.load(\"en_core_web_sm\")\n",
        "words_vb = []\n",
        "\n",
        "for line in foodpanda_reviews['cleandata']:\n",
        "  doc = nlp(line)\n",
        "  tokens = [tok.lemma_.lower().strip() for tok in doc if tok.pos_ == 'VERB']\n",
        "  words_vb.append(tokens)"
      ],
      "execution_count": null,
      "outputs": []
    },
    {
      "cell_type": "code",
      "metadata": {
        "id": "wmQJ4G4C2SXz"
      },
      "source": [
        "#Then, we need to transform this list into a new column back to our data frame:\n",
        "foodpanda_reviews['words_vb'] = pd.Series(words_vb)\n"
      ],
      "execution_count": null,
      "outputs": []
    },
    {
      "cell_type": "code",
      "metadata": {
        "id": "q1YSO7Lt7GSG",
        "colab": {
          "base_uri": "https://localhost:8080/"
        },
        "outputId": "38cb1ae6-7952-484f-b95f-b01b85cf5dc5"
      },
      "source": [
        "foodpanda_reviews['words_vb'].head(30)"
      ],
      "execution_count": null,
      "outputs": [
        {
          "output_type": "execute_result",
          "data": {
            "text/plain": [
              "0                [live, discover, shop, become, happen]\n",
              "1                                                 [eat]\n",
              "2                                         [come, close]\n",
              "3                                                [take]\n",
              "4                                                    []\n",
              "5                                                    []\n",
              "6     [include, would, be, happen, make, make, hal, ...\n",
              "7              [keep, get, cancel, undelivere, rrcieve]\n",
              "8       [see, bring, compare, keep, say, start, change]\n",
              "9     [keep, get, use, keep, start, can, buy, use, s...\n",
              "10                                     [ought, improve]\n",
              "11                            [proceed, order, deliver]\n",
              "12    [shift, shaheed, show, train, know, follow, read]\n",
              "13    [work, answer, order, cancel, ask, ruin, get, ...\n",
              "14                                                   []\n",
              "15                       [lollypop, complain, lollypop]\n",
              "16    [cancel, pay, take, choose, fault, send, templ...\n",
              "17                                                   []\n",
              "18                                               [need]\n",
              "19                                                   []\n",
              "20                                            [include]\n",
              "21                                        [update, add]\n",
              "22                                        [order, take]\n",
              "23                                                   []\n",
              "24    [give, need, give, wait, want, take, get, canc...\n",
              "25                            [wait, cancel, go, close]\n",
              "26                            [consider, select, waste]\n",
              "27                                                   []\n",
              "28                                [order, cause, order]\n",
              "29    [pe, read, rider, send, buy, say, note, unders...\n",
              "Name: words_vb, dtype: object"
            ]
          },
          "metadata": {},
          "execution_count": 26
        }
      ]
    },
    {
      "cell_type": "markdown",
      "metadata": {
        "id": "1M8kFZEa2SXz"
      },
      "source": [
        "Finally, using some python basics, we can select the most common verbs used in positive and negative reviews:"
      ]
    },
    {
      "cell_type": "code",
      "metadata": {
        "id": "a9EGk7Qe2SXz",
        "colab": {
          "base_uri": "https://localhost:8080/"
        },
        "outputId": "400c589f-0bea-45f1-e601-4378c55782c0"
      },
      "source": [
        "#positive verb\n",
        "\n",
        "foodpanda_reviews['vb_pos']= foodpanda_reviews[foodpanda_reviews['Sentiment_rating']==1]['words_vb']\n",
        "foodpanda_reviews['vb_pos'].tolist()\n",
        "\n",
        "from ast import literal_eval\n",
        "pos_vb = foodpanda_reviews['vb_pos'].explode()\n",
        "pos_vb = pos_vb.dropna()\n",
        "pos_vb_count = Counter(pos_vb).most_common(10)\n",
        "print (pos_vb_count)\n",
        "\n",
        "df = pd.DataFrame (pos_vb_count, columns = ['vb_pos','Counts'])\n",
        "df.drop(columns='Counts')\n",
        "\n",
        "top10_pos['verb_pos'] = df['vb_pos']"
      ],
      "execution_count": null,
      "outputs": [
        {
          "output_type": "stream",
          "name": "stdout",
          "text": [
            "[('use', 353), ('order', 245), ('give', 244), ('get', 239), ('make', 222), ('deliver', 194), ('need', 174), ('keep', 158), ('go', 155), ('add', 148)]\n"
          ]
        }
      ]
    },
    {
      "cell_type": "code",
      "metadata": {
        "id": "34UKap4o2SX0",
        "colab": {
          "base_uri": "https://localhost:8080/"
        },
        "outputId": "ad5ad84b-4706-4436-b803-a5c93ffe36ae"
      },
      "source": [
        "#negative adjectives\n",
        "\n",
        "foodpanda_reviews['vb_neg']= foodpanda_reviews[foodpanda_reviews['Sentiment_rating']==0]['words_vb']\n",
        "foodpanda_reviews['vb_neg'].tolist()\n",
        "\n",
        "from ast import literal_eval\n",
        "neg_vb = foodpanda_reviews['vb_neg'].explode()\n",
        "neg_vb = neg_vb.dropna()\n",
        "neg_vb_count = Counter(neg_vb).most_common(10)\n",
        "print (neg_vb_count)\n",
        "\n",
        "df = pd.DataFrame (neg_vb_count, columns = ['vb_neg','Counts'])\n",
        "df.drop(columns='Counts')\n",
        "\n",
        "top10_pos['verb_neg'] = df['vb_neg']"
      ],
      "execution_count": null,
      "outputs": [
        {
          "output_type": "stream",
          "name": "stdout",
          "text": [
            "[('use', 912), ('get', 890), ('cancel', 752), ('say', 704), ('order', 624), ('give', 589), ('deliver', 495), ('make', 491), ('take', 466), ('try', 451)]\n"
          ]
        }
      ]
    },
    {
      "cell_type": "code",
      "metadata": {
        "id": "vP5ML8U_-MhN",
        "colab": {
          "base_uri": "https://localhost:8080/",
          "height": 363
        },
        "outputId": "276cbe93-d952-44b4-8d09-a5a865d217ce"
      },
      "source": [
        "top10_pos\n"
      ],
      "execution_count": null,
      "outputs": [
        {
          "output_type": "execute_result",
          "data": {
            "text/html": [
              "<div>\n",
              "<style scoped>\n",
              "    .dataframe tbody tr th:only-of-type {\n",
              "        vertical-align: middle;\n",
              "    }\n",
              "\n",
              "    .dataframe tbody tr th {\n",
              "        vertical-align: top;\n",
              "    }\n",
              "\n",
              "    .dataframe thead th {\n",
              "        text-align: right;\n",
              "    }\n",
              "</style>\n",
              "<table border=\"1\" class=\"dataframe\">\n",
              "  <thead>\n",
              "    <tr style=\"text-align: right;\">\n",
              "      <th></th>\n",
              "      <th>id</th>\n",
              "      <th>adjectives_pos</th>\n",
              "      <th>adjectives_neg</th>\n",
              "      <th>verb_pos</th>\n",
              "      <th>verb_neg</th>\n",
              "    </tr>\n",
              "  </thead>\n",
              "  <tbody>\n",
              "    <tr>\n",
              "      <th>0</th>\n",
              "      <td>1</td>\n",
              "      <td>good</td>\n",
              "      <td>bad</td>\n",
              "      <td>use</td>\n",
              "      <td>use</td>\n",
              "    </tr>\n",
              "    <tr>\n",
              "      <th>1</th>\n",
              "      <td>2</td>\n",
              "      <td>easy</td>\n",
              "      <td>good</td>\n",
              "      <td>order</td>\n",
              "      <td>get</td>\n",
              "    </tr>\n",
              "    <tr>\n",
              "      <th>2</th>\n",
              "      <td>3</td>\n",
              "      <td>great</td>\n",
              "      <td>many</td>\n",
              "      <td>give</td>\n",
              "      <td>cancel</td>\n",
              "    </tr>\n",
              "    <tr>\n",
              "      <th>3</th>\n",
              "      <td>4</td>\n",
              "      <td>fast</td>\n",
              "      <td>wrong</td>\n",
              "      <td>get</td>\n",
              "      <td>say</td>\n",
              "    </tr>\n",
              "    <tr>\n",
              "      <th>4</th>\n",
              "      <td>5</td>\n",
              "      <td>convenient</td>\n",
              "      <td>poor</td>\n",
              "      <td>make</td>\n",
              "      <td>order</td>\n",
              "    </tr>\n",
              "    <tr>\n",
              "      <th>5</th>\n",
              "      <td>6</td>\n",
              "      <td>nice</td>\n",
              "      <td>available</td>\n",
              "      <td>deliver</td>\n",
              "      <td>give</td>\n",
              "    </tr>\n",
              "    <tr>\n",
              "      <th>6</th>\n",
              "      <td>7</td>\n",
              "      <td>many</td>\n",
              "      <td>high</td>\n",
              "      <td>need</td>\n",
              "      <td>deliver</td>\n",
              "    </tr>\n",
              "    <tr>\n",
              "      <th>7</th>\n",
              "      <td>8</td>\n",
              "      <td>friendly</td>\n",
              "      <td>online</td>\n",
              "      <td>keep</td>\n",
              "      <td>make</td>\n",
              "    </tr>\n",
              "    <tr>\n",
              "      <th>8</th>\n",
              "      <td>9</td>\n",
              "      <td>helpful</td>\n",
              "      <td>expensive</td>\n",
              "      <td>go</td>\n",
              "      <td>take</td>\n",
              "    </tr>\n",
              "    <tr>\n",
              "      <th>9</th>\n",
              "      <td>10</td>\n",
              "      <td>available</td>\n",
              "      <td>late</td>\n",
              "      <td>add</td>\n",
              "      <td>try</td>\n",
              "    </tr>\n",
              "  </tbody>\n",
              "</table>\n",
              "</div>"
            ],
            "text/plain": [
              "   id adjectives_pos adjectives_neg verb_pos verb_neg\n",
              "0   1           good            bad      use      use\n",
              "1   2           easy           good    order      get\n",
              "2   3          great           many     give   cancel\n",
              "3   4           fast          wrong      get      say\n",
              "4   5     convenient           poor     make    order\n",
              "5   6           nice      available  deliver     give\n",
              "6   7           many           high     need  deliver\n",
              "7   8       friendly         online     keep     make\n",
              "8   9        helpful      expensive       go     take\n",
              "9  10      available           late      add      try"
            ]
          },
          "metadata": {},
          "execution_count": 29
        }
      ]
    },
    {
      "cell_type": "markdown",
      "metadata": {
        "id": "JmiWPDvX-agn"
      },
      "source": [
        "##Noun\n"
      ]
    },
    {
      "cell_type": "markdown",
      "metadata": {
        "id": "FnrDKKd9-ago"
      },
      "source": [
        ""
      ]
    },
    {
      "cell_type": "code",
      "metadata": {
        "id": "gpT9akuF-ago"
      },
      "source": [
        "import spacy\n",
        "\n",
        "nlp = spacy.load(\"en_core_web_sm\")\n",
        "words_nn = []\n",
        "\n",
        "for line in foodpanda_reviews['cleandata']:\n",
        "  doc = nlp(line)\n",
        "  tokens = [tok.lemma_.lower().strip() for tok in doc if tok.pos_ == 'NOUN']\n",
        "  words_nn.append(tokens)"
      ],
      "execution_count": null,
      "outputs": []
    },
    {
      "cell_type": "code",
      "metadata": {
        "id": "RmxCpTwy-ago"
      },
      "source": [
        "#Then, we need to transform this list into a new column back to our data frame:\n",
        "foodpanda_reviews['words_nn'] = pd.Series(words_nn)\n"
      ],
      "execution_count": null,
      "outputs": []
    },
    {
      "cell_type": "code",
      "metadata": {
        "id": "bOFYbIl9-ago",
        "colab": {
          "base_uri": "https://localhost:8080/"
        },
        "outputId": "7c4e5741-bcb1-4282-cec9-23d43eb48856"
      },
      "source": [
        "foodpanda_reviews['words_nn'].head(30)"
      ],
      "execution_count": null,
      "outputs": [
        {
          "output_type": "execute_result",
          "data": {
            "text/plain": [
              "0              [place, place, city, order, issue, shop]\n",
              "1                                      [delivery, want]\n",
              "2                              [promo, restaurant, bit]\n",
              "3                                               [order]\n",
              "4                                   [packing, delivery]\n",
              "5                                             [service]\n",
              "6     [rider, customer, time, everytime, cod, order,...\n",
              "7     [issue, complain, order, rider, motor, breakdo...\n",
              "8                        [rider, bill, encounter, bill]\n",
              "9     [love, error, voucher, app, date, promo, vouch...\n",
              "10                              [app, search, function]\n",
              "11          [option, delivery, order, incomplete, item]\n",
              "12    [food, map, garden, rider, address, rider, map...\n",
              "13    [time, use, order, think, option, time, kind, ...\n",
              "14                                            [service]\n",
              "15    [order, delivery, voucher, food, time, time, v...\n",
              "16    [store, order, debit, card, refund, day, optio...\n",
              "17                                            [grocery]\n",
              "18                                             [radius]\n",
              "19                                            [service]\n",
              "20                             [user, restaurant, area]\n",
              "21    [panda, pay, panda, wallet, app, error, order,...\n",
              "22                      [time, food, hour, rider, help]\n",
              "23                                                [app]\n",
              "24    [star, star, hour, order, cancel, order, order...\n",
              "25                    [hour, app, order, p, restaurant]\n",
              "26                                  [rider, area, time]\n",
              "27                                                   []\n",
              "28                     [bug, one, cart, user, fix, bug]\n",
              "29    [location, rider, description, time, food, ite...\n",
              "Name: words_nn, dtype: object"
            ]
          },
          "metadata": {},
          "execution_count": 32
        }
      ]
    },
    {
      "cell_type": "markdown",
      "metadata": {
        "id": "6X8Wlgoh-ago"
      },
      "source": [
        "Finally, using some python basics, we can select the most common nouns used in positive and negative reviews:"
      ]
    },
    {
      "cell_type": "code",
      "metadata": {
        "id": "yrNnnys_-ago",
        "colab": {
          "base_uri": "https://localhost:8080/"
        },
        "outputId": "29ad3756-b5be-4522-c91f-2ab431b1d670"
      },
      "source": [
        "#positive noun\n",
        "foodpanda_reviews['nn_pos']= foodpanda_reviews[foodpanda_reviews['Sentiment_rating']==1]['words_nn']\n",
        "foodpanda_reviews['nn_pos'].tolist()\n",
        "\n",
        "from ast import literal_eval\n",
        "pos_nn = foodpanda_reviews['nn_pos'].explode()\n",
        "pos_nn = pos_nn.dropna()\n",
        "pos_nn_count = Counter(pos_nn).most_common(10)\n",
        "print (pos_nn_count)\n",
        "\n",
        "df = pd.DataFrame (pos_nn_count, columns = ['nn_pos','Counts'])\n",
        "df.drop(columns='Counts')\n",
        "\n",
        "top10_pos['noun_pos'] = df['nn_pos']"
      ],
      "execution_count": null,
      "outputs": [
        {
          "output_type": "stream",
          "name": "stdout",
          "text": [
            "[('food', 1154), ('delivery', 936), ('app', 910), ('order', 858), ('service', 609), ('time', 581), ('use', 357), ('restaurant', 352), ('rider', 326), ('customer', 264)]\n"
          ]
        }
      ]
    },
    {
      "cell_type": "code",
      "metadata": {
        "id": "Wzu_lm5T-ago",
        "colab": {
          "base_uri": "https://localhost:8080/"
        },
        "outputId": "0c6ef5b9-3f21-4ccf-fd89-a4fe29b9ba17"
      },
      "source": [
        "#negative noun\n",
        "\n",
        "foodpanda_reviews['nn_neg']= foodpanda_reviews[foodpanda_reviews['Sentiment_rating']==0]['words_nn']\n",
        "foodpanda_reviews['nn_neg'].tolist()\n",
        "\n",
        "from ast import literal_eval\n",
        "neg_nn = foodpanda_reviews['nn_neg'].explode()\n",
        "neg_nn = neg_nn.dropna()\n",
        "neg_nn_count = Counter(neg_nn).most_common(10)\n",
        "print (neg_nn_count)\n",
        "\n",
        "df = pd.DataFrame (neg_nn_count, columns = ['nn_neg','Counts'])\n",
        "df.drop(columns='Counts')\n",
        "\n",
        "top10_pos['noun_neg'] = df['nn_neg']"
      ],
      "execution_count": null,
      "outputs": [
        {
          "output_type": "stream",
          "name": "stdout",
          "text": [
            "[('order', 2979), ('app', 1727), ('food', 1673), ('delivery', 1444), ('time', 1365), ('service', 1188), ('customer', 1063), ('restaurant', 845), ('rider', 696), ('payment', 626)]\n"
          ]
        }
      ]
    },
    {
      "cell_type": "code",
      "metadata": {
        "id": "I0QG4vc_-agp",
        "colab": {
          "base_uri": "https://localhost:8080/",
          "height": 363
        },
        "outputId": "1c2677be-907c-47c7-ba13-e380b2f5c14e"
      },
      "source": [
        "top10_pos\n"
      ],
      "execution_count": null,
      "outputs": [
        {
          "output_type": "execute_result",
          "data": {
            "text/html": [
              "<div>\n",
              "<style scoped>\n",
              "    .dataframe tbody tr th:only-of-type {\n",
              "        vertical-align: middle;\n",
              "    }\n",
              "\n",
              "    .dataframe tbody tr th {\n",
              "        vertical-align: top;\n",
              "    }\n",
              "\n",
              "    .dataframe thead th {\n",
              "        text-align: right;\n",
              "    }\n",
              "</style>\n",
              "<table border=\"1\" class=\"dataframe\">\n",
              "  <thead>\n",
              "    <tr style=\"text-align: right;\">\n",
              "      <th></th>\n",
              "      <th>id</th>\n",
              "      <th>adjectives_pos</th>\n",
              "      <th>adjectives_neg</th>\n",
              "      <th>verb_pos</th>\n",
              "      <th>verb_neg</th>\n",
              "      <th>noun_pos</th>\n",
              "      <th>noun_neg</th>\n",
              "    </tr>\n",
              "  </thead>\n",
              "  <tbody>\n",
              "    <tr>\n",
              "      <th>0</th>\n",
              "      <td>1</td>\n",
              "      <td>good</td>\n",
              "      <td>bad</td>\n",
              "      <td>use</td>\n",
              "      <td>use</td>\n",
              "      <td>food</td>\n",
              "      <td>order</td>\n",
              "    </tr>\n",
              "    <tr>\n",
              "      <th>1</th>\n",
              "      <td>2</td>\n",
              "      <td>easy</td>\n",
              "      <td>good</td>\n",
              "      <td>order</td>\n",
              "      <td>get</td>\n",
              "      <td>delivery</td>\n",
              "      <td>app</td>\n",
              "    </tr>\n",
              "    <tr>\n",
              "      <th>2</th>\n",
              "      <td>3</td>\n",
              "      <td>great</td>\n",
              "      <td>many</td>\n",
              "      <td>give</td>\n",
              "      <td>cancel</td>\n",
              "      <td>app</td>\n",
              "      <td>food</td>\n",
              "    </tr>\n",
              "    <tr>\n",
              "      <th>3</th>\n",
              "      <td>4</td>\n",
              "      <td>fast</td>\n",
              "      <td>wrong</td>\n",
              "      <td>get</td>\n",
              "      <td>say</td>\n",
              "      <td>order</td>\n",
              "      <td>delivery</td>\n",
              "    </tr>\n",
              "    <tr>\n",
              "      <th>4</th>\n",
              "      <td>5</td>\n",
              "      <td>convenient</td>\n",
              "      <td>poor</td>\n",
              "      <td>make</td>\n",
              "      <td>order</td>\n",
              "      <td>service</td>\n",
              "      <td>time</td>\n",
              "    </tr>\n",
              "    <tr>\n",
              "      <th>5</th>\n",
              "      <td>6</td>\n",
              "      <td>nice</td>\n",
              "      <td>available</td>\n",
              "      <td>deliver</td>\n",
              "      <td>give</td>\n",
              "      <td>time</td>\n",
              "      <td>service</td>\n",
              "    </tr>\n",
              "    <tr>\n",
              "      <th>6</th>\n",
              "      <td>7</td>\n",
              "      <td>many</td>\n",
              "      <td>high</td>\n",
              "      <td>need</td>\n",
              "      <td>deliver</td>\n",
              "      <td>use</td>\n",
              "      <td>customer</td>\n",
              "    </tr>\n",
              "    <tr>\n",
              "      <th>7</th>\n",
              "      <td>8</td>\n",
              "      <td>friendly</td>\n",
              "      <td>online</td>\n",
              "      <td>keep</td>\n",
              "      <td>make</td>\n",
              "      <td>restaurant</td>\n",
              "      <td>restaurant</td>\n",
              "    </tr>\n",
              "    <tr>\n",
              "      <th>8</th>\n",
              "      <td>9</td>\n",
              "      <td>helpful</td>\n",
              "      <td>expensive</td>\n",
              "      <td>go</td>\n",
              "      <td>take</td>\n",
              "      <td>rider</td>\n",
              "      <td>rider</td>\n",
              "    </tr>\n",
              "    <tr>\n",
              "      <th>9</th>\n",
              "      <td>10</td>\n",
              "      <td>available</td>\n",
              "      <td>late</td>\n",
              "      <td>add</td>\n",
              "      <td>try</td>\n",
              "      <td>customer</td>\n",
              "      <td>payment</td>\n",
              "    </tr>\n",
              "  </tbody>\n",
              "</table>\n",
              "</div>"
            ],
            "text/plain": [
              "   id adjectives_pos adjectives_neg verb_pos verb_neg    noun_pos    noun_neg\n",
              "0   1           good            bad      use      use        food       order\n",
              "1   2           easy           good    order      get    delivery         app\n",
              "2   3          great           many     give   cancel         app        food\n",
              "3   4           fast          wrong      get      say       order    delivery\n",
              "4   5     convenient           poor     make    order     service        time\n",
              "5   6           nice      available  deliver     give        time     service\n",
              "6   7           many           high     need  deliver         use    customer\n",
              "7   8       friendly         online     keep     make  restaurant  restaurant\n",
              "8   9        helpful      expensive       go     take       rider       rider\n",
              "9  10      available           late      add      try    customer     payment"
            ]
          },
          "metadata": {},
          "execution_count": 35
        }
      ]
    },
    {
      "cell_type": "markdown",
      "metadata": {
        "id": "nLq9SCTnAgtv"
      },
      "source": [
        "##Adverb\n"
      ]
    },
    {
      "cell_type": "markdown",
      "metadata": {
        "id": "Rczo-F6XAgt3"
      },
      "source": [
        ""
      ]
    },
    {
      "cell_type": "code",
      "metadata": {
        "id": "Vp_-AJuFAgt4"
      },
      "source": [
        "import spacy\n",
        "\n",
        "nlp = spacy.load(\"en_core_web_sm\")\n",
        "words_adv = []\n",
        "\n",
        "for line in foodpanda_reviews['cleandata']:\n",
        "  doc = nlp(line)\n",
        "  tokens = [tok.lemma_.lower().strip() for tok in doc if tok.pos_ == 'ADV']\n",
        "  words_adv.append(tokens)"
      ],
      "execution_count": null,
      "outputs": []
    },
    {
      "cell_type": "code",
      "metadata": {
        "id": "LoD5vweSAgt4"
      },
      "source": [
        "#Then, we need to transform this list into a new column back to our data frame:\n",
        "foodpanda_reviews['words_adv'] = pd.Series(words_adv)\n"
      ],
      "execution_count": null,
      "outputs": []
    },
    {
      "cell_type": "code",
      "metadata": {
        "id": "KxSEIducAgt4",
        "colab": {
          "base_uri": "https://localhost:8080/"
        },
        "outputId": "e4132278-9645-4404-9b85-c87b8d98e84f"
      },
      "source": [
        "foodpanda_reviews['words_adv'].head(30)"
      ],
      "execution_count": null,
      "outputs": [
        {
          "output_type": "execute_result",
          "data": {
            "text/plain": [
              "0           [pretty, far, sometimes, even, really]\n",
              "1                                               []\n",
              "2                          [sometime, temporarily]\n",
              "3                                           [long]\n",
              "4                                               []\n",
              "5                                               []\n",
              "6                                               []\n",
              "7                                   [however, yet]\n",
              "8                                           [back]\n",
              "9                                               []\n",
              "10                                              []\n",
              "11                                              []\n",
              "12                 [soon, always, enough, blindly]\n",
              "13               [around, ever, continuesly, else]\n",
              "14                                              []\n",
              "15                                        [always]\n",
              "16                                              []\n",
              "17                                              []\n",
              "18                                              []\n",
              "19                                              []\n",
              "20                                        [almost]\n",
              "21                                          [ever]\n",
              "22                                              []\n",
              "23                                              []\n",
              "24    [already, back, automatically, luckily, yet]\n",
              "25                                        [mostly]\n",
              "26                                              []\n",
              "27                                   [super, fast]\n",
              "28                             [twice, mistakenly]\n",
              "29                             [also, even, still]\n",
              "Name: words_adv, dtype: object"
            ]
          },
          "metadata": {},
          "execution_count": 38
        }
      ]
    },
    {
      "cell_type": "markdown",
      "metadata": {
        "id": "aZeHgMoKAgt4"
      },
      "source": [
        "Finally, using some python basics, we can select the most common nouns used in positive and negative reviews:"
      ]
    },
    {
      "cell_type": "code",
      "metadata": {
        "id": "i3X9cmFPAgt4",
        "colab": {
          "base_uri": "https://localhost:8080/"
        },
        "outputId": "db62cccd-a22e-4fb7-959c-e257a9d2e5e1"
      },
      "source": [
        "#positive adverb\n",
        "foodpanda_reviews['adv_pos']= foodpanda_reviews[foodpanda_reviews['Sentiment_rating']==1]['words_adv']\n",
        "foodpanda_reviews['adv_pos'].tolist()\n",
        "\n",
        "from ast import literal_eval\n",
        "pos_adv = foodpanda_reviews['adv_pos'].explode()\n",
        "pos_adv = pos_adv.dropna()\n",
        "pos_adv_count = Counter(pos_adv).most_common(10)\n",
        "print (pos_adv_count)\n",
        "\n",
        "df = pd.DataFrame (pos_adv_count, columns = ['adv_pos','Counts'])\n",
        "df.drop(columns='Counts')\n",
        "\n",
        "top10_pos['adverb_pos'] = df['adv_pos']"
      ],
      "execution_count": null,
      "outputs": [
        {
          "output_type": "stream",
          "name": "stdout",
          "text": [
            "[('always', 252), ('really', 250), ('sometimes', 233), ('also', 216), ('still', 140), ('even', 137), ('far', 108), ('especially', 93), ('fast', 83), ('much', 82)]\n"
          ]
        }
      ]
    },
    {
      "cell_type": "code",
      "metadata": {
        "id": "BgzBcvPNAgt4",
        "colab": {
          "base_uri": "https://localhost:8080/"
        },
        "outputId": "fac6d10a-766c-4c3c-dcb4-e3a716e87335"
      },
      "source": [
        "#negative adverb\n",
        "\n",
        "foodpanda_reviews['adv_neg']= foodpanda_reviews[foodpanda_reviews['Sentiment_rating']==0]['words_adv']\n",
        "foodpanda_reviews['adv_neg'].tolist()\n",
        "\n",
        "from ast import literal_eval\n",
        "neg_adv = foodpanda_reviews['adv_neg'].explode()\n",
        "neg_adv = neg_adv.dropna()\n",
        "neg_adv_count = Counter(neg_adv).most_common(10)\n",
        "print (neg_adv_count)\n",
        "\n",
        "df = pd.DataFrame (neg_adv_count, columns = ['adv_neg','Counts'])\n",
        "df.drop(columns='Counts')\n",
        "\n",
        "top10_pos['adverb_neg'] = df['adv_neg']"
      ],
      "execution_count": null,
      "outputs": [
        {
          "output_type": "stream",
          "name": "stdout",
          "text": [
            "[('even', 878), ('always', 637), ('still', 472), ('already', 414), ('also', 371), ('never', 344), ('really', 247), ('ever', 219), ('back', 173), ('sometimes', 168)]\n"
          ]
        }
      ]
    },
    {
      "cell_type": "code",
      "metadata": {
        "id": "ORWauuzoAgt4",
        "colab": {
          "base_uri": "https://localhost:8080/"
        },
        "outputId": "287d0a40-940b-4edf-a310-0b0042a9811b"
      },
      "source": [
        "top10_pos\n"
      ],
      "execution_count": null,
      "outputs": [
        {
          "output_type": "execute_result",
          "data": {
            "text/html": [
              "<div>\n",
              "<style scoped>\n",
              "    .dataframe tbody tr th:only-of-type {\n",
              "        vertical-align: middle;\n",
              "    }\n",
              "\n",
              "    .dataframe tbody tr th {\n",
              "        vertical-align: top;\n",
              "    }\n",
              "\n",
              "    .dataframe thead th {\n",
              "        text-align: right;\n",
              "    }\n",
              "</style>\n",
              "<table border=\"1\" class=\"dataframe\">\n",
              "  <thead>\n",
              "    <tr style=\"text-align: right;\">\n",
              "      <th></th>\n",
              "      <th>id</th>\n",
              "      <th>adjectives_pos</th>\n",
              "      <th>adjectives_neg</th>\n",
              "      <th>verb_pos</th>\n",
              "      <th>verb_neg</th>\n",
              "      <th>noun_pos</th>\n",
              "      <th>noun_neg</th>\n",
              "      <th>adverb_pos</th>\n",
              "      <th>adverb_neg</th>\n",
              "    </tr>\n",
              "  </thead>\n",
              "  <tbody>\n",
              "    <tr>\n",
              "      <th>0</th>\n",
              "      <td>1</td>\n",
              "      <td>good</td>\n",
              "      <td>bad</td>\n",
              "      <td>use</td>\n",
              "      <td>use</td>\n",
              "      <td>food</td>\n",
              "      <td>order</td>\n",
              "      <td>always</td>\n",
              "      <td>even</td>\n",
              "    </tr>\n",
              "    <tr>\n",
              "      <th>1</th>\n",
              "      <td>2</td>\n",
              "      <td>easy</td>\n",
              "      <td>good</td>\n",
              "      <td>order</td>\n",
              "      <td>get</td>\n",
              "      <td>delivery</td>\n",
              "      <td>app</td>\n",
              "      <td>really</td>\n",
              "      <td>always</td>\n",
              "    </tr>\n",
              "    <tr>\n",
              "      <th>2</th>\n",
              "      <td>3</td>\n",
              "      <td>great</td>\n",
              "      <td>many</td>\n",
              "      <td>give</td>\n",
              "      <td>cancel</td>\n",
              "      <td>app</td>\n",
              "      <td>food</td>\n",
              "      <td>sometimes</td>\n",
              "      <td>still</td>\n",
              "    </tr>\n",
              "    <tr>\n",
              "      <th>3</th>\n",
              "      <td>4</td>\n",
              "      <td>fast</td>\n",
              "      <td>wrong</td>\n",
              "      <td>get</td>\n",
              "      <td>say</td>\n",
              "      <td>order</td>\n",
              "      <td>delivery</td>\n",
              "      <td>also</td>\n",
              "      <td>already</td>\n",
              "    </tr>\n",
              "    <tr>\n",
              "      <th>4</th>\n",
              "      <td>5</td>\n",
              "      <td>convenient</td>\n",
              "      <td>poor</td>\n",
              "      <td>make</td>\n",
              "      <td>order</td>\n",
              "      <td>service</td>\n",
              "      <td>time</td>\n",
              "      <td>still</td>\n",
              "      <td>also</td>\n",
              "    </tr>\n",
              "    <tr>\n",
              "      <th>5</th>\n",
              "      <td>6</td>\n",
              "      <td>nice</td>\n",
              "      <td>available</td>\n",
              "      <td>deliver</td>\n",
              "      <td>give</td>\n",
              "      <td>time</td>\n",
              "      <td>service</td>\n",
              "      <td>even</td>\n",
              "      <td>never</td>\n",
              "    </tr>\n",
              "    <tr>\n",
              "      <th>6</th>\n",
              "      <td>7</td>\n",
              "      <td>many</td>\n",
              "      <td>high</td>\n",
              "      <td>need</td>\n",
              "      <td>deliver</td>\n",
              "      <td>use</td>\n",
              "      <td>customer</td>\n",
              "      <td>far</td>\n",
              "      <td>really</td>\n",
              "    </tr>\n",
              "    <tr>\n",
              "      <th>7</th>\n",
              "      <td>8</td>\n",
              "      <td>friendly</td>\n",
              "      <td>online</td>\n",
              "      <td>keep</td>\n",
              "      <td>make</td>\n",
              "      <td>restaurant</td>\n",
              "      <td>restaurant</td>\n",
              "      <td>especially</td>\n",
              "      <td>ever</td>\n",
              "    </tr>\n",
              "    <tr>\n",
              "      <th>8</th>\n",
              "      <td>9</td>\n",
              "      <td>helpful</td>\n",
              "      <td>expensive</td>\n",
              "      <td>go</td>\n",
              "      <td>take</td>\n",
              "      <td>rider</td>\n",
              "      <td>rider</td>\n",
              "      <td>fast</td>\n",
              "      <td>back</td>\n",
              "    </tr>\n",
              "    <tr>\n",
              "      <th>9</th>\n",
              "      <td>10</td>\n",
              "      <td>available</td>\n",
              "      <td>late</td>\n",
              "      <td>add</td>\n",
              "      <td>try</td>\n",
              "      <td>customer</td>\n",
              "      <td>payment</td>\n",
              "      <td>much</td>\n",
              "      <td>sometimes</td>\n",
              "    </tr>\n",
              "  </tbody>\n",
              "</table>\n",
              "</div>"
            ],
            "text/plain": [
              "   id adjectives_pos adjectives_neg  ...    noun_neg  adverb_pos adverb_neg\n",
              "0   1           good            bad  ...       order      always       even\n",
              "1   2           easy           good  ...         app      really     always\n",
              "2   3          great           many  ...        food   sometimes      still\n",
              "3   4           fast          wrong  ...    delivery        also    already\n",
              "4   5     convenient           poor  ...        time       still       also\n",
              "5   6           nice      available  ...     service        even      never\n",
              "6   7           many           high  ...    customer         far     really\n",
              "7   8       friendly         online  ...  restaurant  especially       ever\n",
              "8   9        helpful      expensive  ...       rider        fast       back\n",
              "9  10      available           late  ...     payment        much  sometimes\n",
              "\n",
              "[10 rows x 9 columns]"
            ]
          },
          "metadata": {},
          "execution_count": 41
        }
      ]
    },
    {
      "cell_type": "code",
      "metadata": {
        "id": "EiIrSRqfD4Rz",
        "colab": {
          "base_uri": "https://localhost:8080/"
        },
        "outputId": "a7be9486-2fa4-4e89-a363-b0ec3c1db6e0"
      },
      "source": [
        "# determining the name of the file\n",
        "file_name = 'top10_pos_updated.xlsx'\n",
        "  \n",
        "# saving the excel\n",
        "top10_pos.to_excel(file_name)\n",
        "print('DataFrame is written to Excel File successfully.')"
      ],
      "execution_count": null,
      "outputs": [
        {
          "output_type": "stream",
          "name": "stdout",
          "text": [
            "DataFrame is written to Excel File successfully.\n"
          ]
        }
      ]
    }
  ]
}