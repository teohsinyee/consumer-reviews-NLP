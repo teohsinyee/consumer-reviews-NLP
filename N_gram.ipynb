{
  "nbformat": 4,
  "nbformat_minor": 0,
  "metadata": {
    "colab": {
      "name": "NLP ASSN 1 (N-gram).ipynb",
      "provenance": [],
      "collapsed_sections": [
        "wSS5WptX69Jb",
        "2aCGpRZ79Uyv",
        "OYI03hCIdVX_",
        "XRpUZd-F-LRP",
        "EZJR4_6m-7Nn",
        "SBN3amtMxM6z",
        "WGj_uX8pCuuK",
        "ZhKH6T6EDBwM",
        "dTHj-32fDPRD"
      ]
    },
    "kernelspec": {
      "name": "python3",
      "display_name": "Python 3"
    },
    "language_info": {
      "name": "python"
    }
  },
  "cells": [
    {
      "cell_type": "markdown",
      "metadata": {
        "id": "3frB5ve7bOnH"
      },
      "source": [
        "# Sentiment Analysis of Foodpanda's consumer reviews\n",
        "\n",
        "**Source:** *Google Playstore* <br>\n",
        "\n",
        "```\n",
        "Author: Teoh Sin Yee\n",
        "Author: Wan Muhamad Rusyaidi Afifi\n",
        "```\n",
        "\n",
        "\n"
      ]
    },
    {
      "cell_type": "code",
      "metadata": {
        "id": "KX1op5tNbehX"
      },
      "source": [
        "# General packages\n",
        "import numpy as np\n",
        "import pandas as pd\n",
        "import seaborn as sns\n",
        "import matplotlib.pyplot as plt\n",
        "import os\n",
        "\n",
        "# NLP packages\n",
        "import nltk\n",
        "from nltk import word_tokenize\n",
        "from sklearn.feature_extraction.text import CountVectorizer\n",
        "from sklearn.feature_extraction.text import TfidfVectorizer\n",
        "from collections import Counter\n",
        "from wordcloud import WordCloud\n",
        "\n",
        "# Modeling packages\n",
        "from sklearn.model_selection import train_test_split\n",
        "from sklearn.linear_model import LogisticRegression\n",
        "from sklearn.ensemble import RandomForestClassifier\n",
        "from sklearn.metrics import accuracy_score\n",
        "from sklearn.metrics import f1_score\n",
        "\n",
        "from pylab import rcParams\n",
        "import warnings\n",
        "warnings.filterwarnings(\"ignore\")\n",
        "rcParams['figure.figsize'] = 14, 6\n",
        "plt.style.use('ggplot')"
      ],
      "execution_count": null,
      "outputs": []
    },
    {
      "cell_type": "markdown",
      "metadata": {
        "id": "CqK_nhRF39Y0"
      },
      "source": [
        "We will be working with a .csv file that contains information about tens of thousands of customers writing reviews on Amazon products from June 2021 - Dec 2021. Each review contains textual feedback along with a 1-to-5 star rating system (1 being least satisfied and 5 being most satisfied). In this way, the following attributes are available in the data:\n",
        "\n",
        "1. **username (text):** registered user profile name.\n",
        "2. **score (ordinal):** rating between 1 and 5.\n",
        "3. **at (numerical):** date of the review.\n",
        "4. **content (text):** text of the review."
      ]
    },
    {
      "cell_type": "markdown",
      "metadata": {
        "id": "srnSShW049FG"
      },
      "source": [
        "## Reading and performing basic analysis of the data\n",
        "\n",
        "As usual the first step is to read the available data and perform some high-level analysis on it:"
      ]
    },
    {
      "cell_type": "code",
      "metadata": {
        "colab": {
          "base_uri": "https://localhost:8080/"
        },
        "id": "A9ahR_yR5w8X",
        "outputId": "c68b48d7-3bb7-4cfe-e8ec-1169525bd0f4"
      },
      "source": [
        "from google.colab import drive\n",
        "drive.mount('/content/drive/')"
      ],
      "execution_count": null,
      "outputs": [
        {
          "output_type": "stream",
          "name": "stdout",
          "text": [
            "Drive already mounted at /content/drive/; to attempt to forcibly remount, call drive.mount(\"/content/drive/\", force_remount=True).\n"
          ]
        }
      ]
    },
    {
      "cell_type": "code",
      "metadata": {
        "colab": {
          "base_uri": "https://localhost:8080/"
        },
        "id": "eYp7VANi55NX",
        "outputId": "e3047645-3e5f-4e53-a24c-a9f8f43af738"
      },
      "source": [
        "%cd /content/drive/My Drive/Colab Notebooks/"
      ],
      "execution_count": null,
      "outputs": [
        {
          "output_type": "stream",
          "name": "stdout",
          "text": [
            "/content/drive/My Drive/Colab Notebooks\n"
          ]
        }
      ]
    },
    {
      "cell_type": "code",
      "metadata": {
        "colab": {
          "base_uri": "https://localhost:8080/",
          "height": 143
        },
        "id": "SFC5CoFH4_b5",
        "outputId": "c76ceb2f-db40-4a05-e97c-183e107f2c32"
      },
      "source": [
        "foodpanda_reviews = pd.read_csv('scrapped_data.csv')\n",
        "foodpanda_reviews.head(3)"
      ],
      "execution_count": null,
      "outputs": [
        {
          "output_type": "execute_result",
          "data": {
            "text/html": [
              "<div>\n",
              "<style scoped>\n",
              "    .dataframe tbody tr th:only-of-type {\n",
              "        vertical-align: middle;\n",
              "    }\n",
              "\n",
              "    .dataframe tbody tr th {\n",
              "        vertical-align: top;\n",
              "    }\n",
              "\n",
              "    .dataframe thead th {\n",
              "        text-align: right;\n",
              "    }\n",
              "</style>\n",
              "<table border=\"1\" class=\"dataframe\">\n",
              "  <thead>\n",
              "    <tr style=\"text-align: right;\">\n",
              "      <th></th>\n",
              "      <th>userName</th>\n",
              "      <th>score</th>\n",
              "      <th>at</th>\n",
              "      <th>content</th>\n",
              "    </tr>\n",
              "  </thead>\n",
              "  <tbody>\n",
              "    <tr>\n",
              "      <th>0</th>\n",
              "      <td>C Ds</td>\n",
              "      <td>4</td>\n",
              "      <td>22/11/2021</td>\n",
              "      <td>It's pretty good for where I live since most p...</td>\n",
              "    </tr>\n",
              "    <tr>\n",
              "      <th>1</th>\n",
              "      <td>Gopa Banik</td>\n",
              "      <td>5</td>\n",
              "      <td>22/11/2021</td>\n",
              "      <td>So fast delivery... I can eat whatever i want..</td>\n",
              "    </tr>\n",
              "    <tr>\n",
              "      <th>2</th>\n",
              "      <td>Blessyl Fejer</td>\n",
              "      <td>2</td>\n",
              "      <td>22/11/2021</td>\n",
              "      <td>Sometime when it comes to 50% off promo some r...</td>\n",
              "    </tr>\n",
              "  </tbody>\n",
              "</table>\n",
              "</div>"
            ],
            "text/plain": [
              "        userName  ...                                            content\n",
              "0           C Ds  ...  It's pretty good for where I live since most p...\n",
              "1     Gopa Banik  ...    So fast delivery... I can eat whatever i want..\n",
              "2  Blessyl Fejer  ...  Sometime when it comes to 50% off promo some r...\n",
              "\n",
              "[3 rows x 4 columns]"
            ]
          },
          "metadata": {},
          "execution_count": 4
        }
      ]
    },
    {
      "cell_type": "markdown",
      "metadata": {
        "id": "9SXLfxHG6IBT"
      },
      "source": [
        "Let's look at the distribution of number of words per review. We will do this by applying a *lambda* function that splits each complete review by spaces, which will give us the borad words:"
      ]
    },
    {
      "cell_type": "code",
      "metadata": {
        "colab": {
          "base_uri": "https://localhost:8080/",
          "height": 282
        },
        "id": "9jIlGgTu6Hnh",
        "outputId": "a35ea7cf-bdf6-441e-9583-f46bae2cd915"
      },
      "source": [
        "## Getting the number of words by splitting them by a space\n",
        "words_per_review = foodpanda_reviews.content.apply(lambda x: len(x.split(\" \")))\n",
        "words_per_review.hist(bins = 100)\n",
        "plt.xlabel('Review Length (words)')\n",
        "plt.ylabel('Frequency')\n",
        "plt.show()"
      ],
      "execution_count": null,
      "outputs": [
        {
          "output_type": "display_data",
          "data": {
            "image/png": "[encoded data removed]",
            "text/plain": [
              "<Figure size 432x288 with 1 Axes>"
            ]
          },
          "metadata": {
            "needs_background": "light"
          }
        }
      ]
    },
    {
      "cell_type": "code",
      "metadata": {
        "colab": {
          "base_uri": "https://localhost:8080/"
        },
        "id": "cFbgIabb6UL-",
        "outputId": "461d30fa-df1e-4f50-db2a-5a17a6db7ea4"
      },
      "source": [
        "print('Average words:', words_per_review.mean())\n",
        "print('Skewness:', words_per_review.skew())"
      ],
      "execution_count": null,
      "outputs": [
        {
          "output_type": "stream",
          "name": "stdout",
          "text": [
            "Average words: 29.5527\n",
            "Skewness: 1.395108693927331\n"
          ]
        }
      ]
    },
    {
      "cell_type": "markdown",
      "metadata": {
        "id": "qmhFRK8W6cUX"
      },
      "source": [
        "We can see that the number of words per user review is highly positive skewed with mean of 29, which means that on average, user reviews have 29 words."
      ]
    },
    {
      "cell_type": "markdown",
      "metadata": {
        "id": "mm72Xj7F6j2E"
      },
      "source": [
        "Let's also look at the distribution of ratings:"
      ]
    },
    {
      "cell_type": "markdown",
      "metadata": {
        "id": "fhgtV4xzJiYH"
      },
      "source": [
        "Let's also look at the distribution of ratings:"
      ]
    },
    {
      "cell_type": "code",
      "metadata": {
        "colab": {
          "base_uri": "https://localhost:8080/"
        },
        "id": "13gpduXI6kjj",
        "outputId": "15857209-dd16-4009-f4f6-beceba9343c1"
      },
      "source": [
        "percent_val = 100 * foodpanda_reviews['score'].value_counts()/len(foodpanda_reviews)\n",
        "percent_val"
      ],
      "execution_count": null,
      "outputs": [
        {
          "output_type": "execute_result",
          "data": {
            "text/plain": [
              "1    42.65\n",
              "5    26.15\n",
              "4    12.10\n",
              "3     9.87\n",
              "2     9.23\n",
              "Name: score, dtype: float64"
            ]
          },
          "metadata": {},
          "execution_count": 7
        }
      ]
    },
    {
      "cell_type": "code",
      "metadata": {
        "colab": {
          "base_uri": "https://localhost:8080/",
          "height": 262
        },
        "id": "P3AnvM0Z6wfz",
        "outputId": "c2fc2ff4-87c2-42fb-e694-6a11afb9ec6a"
      },
      "source": [
        "percent_val.plot.bar()\n",
        "plt.show()"
      ],
      "execution_count": null,
      "outputs": [
        {
          "output_type": "display_data",
          "data": {
            "image/png": "[encoded data removed]",
            "text/plain": [
              "<Figure size 432x288 with 1 Axes>"
            ]
          },
          "metadata": {
            "needs_background": "light"
          }
        }
      ]
    },
    {
      "cell_type": "markdown",
      "metadata": {
        "id": "fmnpGxNO61Sv"
      },
      "source": [
        "The distribution is quite skewed, with a giant number of 1s and very few 4s, 3s, and 2s."
      ]
    },
    {
      "cell_type": "markdown",
      "metadata": {
        "id": "wSS5WptX69Jb"
      },
      "source": [
        "### Text visualization using word clouds (*word clouds* )\n",
        "\n",
        "As visualization is crucial for numerical data, it is also important for text data. However, the text does not lend itself to histogram charts or scatterplots, as numerical data does. In such cases, the **word clouds** are a common and very useful tool to appreciate the text distribution.\n",
        "\n",
        "To make a word cloud of the string values of the Series `data['content']`, we are going to import the `WordCloud` package (if it is not installed, you can proceed to install it with `pip install wordcloud`) and join all the text with the `.join()` method:"
      ]
    },
    {
      "cell_type": "code",
      "metadata": {
        "colab": {
          "base_uri": "https://localhost:8080/",
          "height": 198
        },
        "id": "oI1zAQ0Z7CHL",
        "outputId": "3f0eafef-1751-42f1-b964-2c74334cfa77"
      },
      "source": [
        "word_cloud_text = ''.join(foodpanda_reviews['content'])\n",
        "\n",
        "wordcloud = WordCloud(max_font_size=100, # Maximum font size for the largest word\n",
        "                      max_words=100, # The maximum number of words\n",
        "                      background_color=\"white\", # Background color for the word cloud image\n",
        "                      scale = 10, # Scaling between computation and drawing\n",
        "                      width=800, # Width of the canvas\n",
        "                      height=400 # Height of the canvas\n",
        "                     ).generate(word_cloud_text)\n",
        "\n",
        "plt.figure()\n",
        "plt.imshow(wordcloud, \n",
        "           interpolation=\"bilinear\") # to make the displayed image appear more smoothly\n",
        "plt.axis(\"off\")\n",
        "plt.show()"
      ],
      "execution_count": null,
      "outputs": [
        {
          "output_type": "display_data",
          "data": {
            "image/png": "[encoded data removed]",
            "text/plain": [
              "<Figure size 432x288 with 1 Axes>"
            ]
          },
          "metadata": {
            "needs_background": "light"
          }
        }
      ]
    },
    {
      "cell_type": "markdown",
      "metadata": {
        "id": "KSswROwE7LYM"
      },
      "source": [
        "The word cloud indicates that many of the reviews talk about restaurant, refund, service, order. We also see some negative words like issue, refund, as well as not desired ones such as foodpanda (brand name),even(adjective),and already (adverb)."
      ]
    },
    {
      "cell_type": "markdown",
      "metadata": {
        "id": "XMG1c2WC8Ku_"
      },
      "source": [
        "KIV\n",
        "For the purposes of sentiment analysis, we will convert all of the ratings into binary values using the follow rule: \n",
        "- Ratings of 4 or 5 will get mapped to 1 and will be reltead to positive reviews\n",
        "- Ratings of 1 or 2 will get mapped to 0 and will be related to negative reviews\n",
        "- Ratings of 3 will get removed since they will represent neutral reviews."
      ]
    },
    {
      "cell_type": "code",
      "metadata": {
        "colab": {
          "base_uri": "https://localhost:8080/"
        },
        "id": "wZVqETuj8KfW",
        "outputId": "4a625ac0-6f73-464e-a9b1-1fd32921d842"
      },
      "source": [
        "# Mapping the ratings\n",
        "foodpanda_reviews['Sentiment_rating'] = np.where(foodpanda_reviews.score > 3,1,0)\n",
        "\n",
        "## Removing neutral reviews \n",
        "foodpanda_reviews = foodpanda_reviews[foodpanda_reviews.score != 3]\n",
        "\n",
        "# Printing the counts of each class\n",
        "foodpanda_reviews['Sentiment_rating'].value_counts()"
      ],
      "execution_count": null,
      "outputs": [
        {
          "output_type": "execute_result",
          "data": {
            "text/plain": [
              "0    5188\n",
              "1    3825\n",
              "Name: Sentiment_rating, dtype: int64"
            ]
          },
          "metadata": {},
          "execution_count": 10
        }
      ]
    },
    {
      "cell_type": "code",
      "metadata": {
        "colab": {
          "base_uri": "https://localhost:8080/",
          "height": 262
        },
        "id": "tSoFzp8O9Lw_",
        "outputId": "8a4cbd8c-69e4-474e-e4d2-dcb095bd724c"
      },
      "source": [
        "foodpanda_reviews.Sentiment_rating.value_counts().plot.bar()\n",
        "plt.show()"
      ],
      "execution_count": null,
      "outputs": [
        {
          "output_type": "display_data",
          "data": {
            "image/png": "[encoded data removed]",
            "text/plain": [
              "<Figure size 432x288 with 1 Axes>"
            ]
          },
          "metadata": {
            "needs_background": "light"
          }
        }
      ]
    },
    {
      "cell_type": "markdown",
      "metadata": {
        "id": "HjnVYblH9Stn"
      },
      "source": [
        "There is a class imbalance that we are going to handle by defining robust metrics."
      ]
    },
    {
      "cell_type": "markdown",
      "metadata": {
        "id": "2aCGpRZ79Uyv"
      },
      "source": [
        "## Pre-processing\n",
        "\n",
        "1. Converting words to lower/upper case\n",
        "2. Removing special characters\n",
        "3. Removing stopwords and high/low-frequency words\n",
        "4. Stemming/lemmatization\n",
        "\n"
      ]
    },
    {
      "cell_type": "markdown",
      "metadata": {
        "id": "OYI03hCIdVX_"
      },
      "source": [
        "### 1. Converting words to lower/upper case\n",
        "\n",
        "Let's start by converting all of the words into a consistent case format, say lowercase:"
      ]
    },
    {
      "cell_type": "code",
      "metadata": {
        "id": "Agri8r179cto"
      },
      "source": [
        "foodpanda_reviews['reviews_text_new'] = foodpanda_reviews['content'].str.lower()"
      ],
      "execution_count": null,
      "outputs": []
    },
    {
      "cell_type": "markdown",
      "metadata": {
        "id": "a7Ii4qvA9jwp"
      },
      "source": [
        "In the following code cell we analyze the number of unique words that are found in reviews before and after applying this step. This process of extracting individual words is called **word tokenization**, and can be run using the `word_tokenize` function in the `nltk` package:"
      ]
    },
    {
      "cell_type": "code",
      "metadata": {
        "colab": {
          "base_uri": "https://localhost:8080/"
        },
        "id": "28lO2Ezn9uVG",
        "outputId": "12289739-ab81-4d51-f591-e5cb11886fe2"
      },
      "source": [
        "import nltk\n",
        "nltk.download('punkt')"
      ],
      "execution_count": null,
      "outputs": [
        {
          "output_type": "stream",
          "name": "stdout",
          "text": [
            "[nltk_data] Downloading package punkt to /root/nltk_data...\n",
            "[nltk_data]   Package punkt is already up-to-date!\n"
          ]
        },
        {
          "output_type": "execute_result",
          "data": {
            "text/plain": [
              "True"
            ]
          },
          "metadata": {},
          "execution_count": 13
        }
      ]
    },
    {
      "cell_type": "code",
      "metadata": {
        "colab": {
          "base_uri": "https://localhost:8080/"
        },
        "id": "8x8nhEFn9YuF",
        "outputId": "d928b933-547e-4d80-9285-527b398bc769"
      },
      "source": [
        "from nltk import word_tokenize\n",
        "\n",
        "# Word tokenization example:\n",
        "word_tokenize(\"DPhi Bootcamp rules. It is awesome :D\")"
      ],
      "execution_count": null,
      "outputs": [
        {
          "output_type": "execute_result",
          "data": {
            "text/plain": [
              "['DPhi', 'Bootcamp', 'rules', '.', 'It', 'is', 'awesome', ':', 'D']"
            ]
          },
          "metadata": {},
          "execution_count": 14
        }
      ]
    },
    {
      "cell_type": "code",
      "metadata": {
        "colab": {
          "base_uri": "https://localhost:8080/"
        },
        "id": "AYhz4Lh-91t4",
        "outputId": "2d1621c5-7059-4fbe-a88e-cbda3daa81a0"
      },
      "source": [
        "# For reviews not converted to lower case\n",
        "token_lists = [word_tokenize(each) for each in foodpanda_reviews['content']]\n",
        "tokens = [item for sublist in token_lists for item in sublist]\n",
        "print(\"Number of unique tokens then: \",len(set(tokens)))\n",
        "\n",
        "# For reviews converted to lowe case\n",
        "token_lists_lower = [word_tokenize(each) for each in foodpanda_reviews['reviews_text_new']]\n",
        "tokens_lower = [item for sublist in token_lists_lower for item in sublist]\n",
        "print(\"Number of unique tokens now: \",len(set(tokens_lower)))"
      ],
      "execution_count": null,
      "outputs": [
        {
          "output_type": "stream",
          "name": "stdout",
          "text": [
            "Number of unique tokens then:  14933\n",
            "Number of unique tokens now:  12169\n"
          ]
        }
      ]
    },
    {
      "cell_type": "markdown",
      "metadata": {
        "id": "DmewfYRG-BpJ"
      },
      "source": [
        "The number of tokens has gone down by ~18% just from normalizing the corpus."
      ]
    },
    {
      "cell_type": "markdown",
      "metadata": {
        "id": "Y-6EaO8L-JTu"
      },
      "source": [
        "Removing special characters is a subjective call, especially in cases like this one. People often use special characters to express their emotions and might leave a review like _'This product is the worst!!!'_, while a positive review could be like _'This product is the best. Loved it!'_. Here, the presence of exclamation marks clearly indicates something about the underlying sentiment, so removing them may well not be a good idea.\n",
        "\n",
        "On the other hand, removing non-emotionally charged punctuation such as commas, periods, and semicolons is likely safe."
      ]
    },
    {
      "cell_type": "markdown",
      "metadata": {
        "id": "XRpUZd-F-LRP"
      },
      "source": [
        "### 2. Removing special characters"
      ]
    },
    {
      "cell_type": "code",
      "metadata": {
        "colab": {
          "base_uri": "https://localhost:8080/"
        },
        "id": "USjfH16T-N-5",
        "outputId": "65506b7f-20fb-48c8-ab11-3c117bce078d"
      },
      "source": [
        "### Selecting non alpha numeric charactes that are not spaces\n",
        "spl_chars = foodpanda_reviews['reviews_text_new'].apply(lambda review: \n",
        "                                                     [char for char in list(review) if not char.isalnum() and char != ' '])\n",
        "\n",
        "## Getting list of list into a single list\n",
        "flat_list = [item for sublist in spl_chars for item in sublist]\n",
        "\n",
        "## Unique special characters\n",
        "set(flat_list)"
      ],
      "execution_count": null,
      "outputs": [
        {
          "output_type": "execute_result",
          "data": {
            "text/plain": [
              "{'!',\n",
              " '\"',\n",
              " '#',\n",
              " '$',\n",
              " '%',\n",
              " '&',\n",
              " \"'\",\n",
              " '(',\n",
              " ')',\n",
              " '*',\n",
              " '+',\n",
              " ',',\n",
              " '-',\n",
              " '.',\n",
              " '/',\n",
              " ':',\n",
              " ';',\n",
              " '<',\n",
              " '=',\n",
              " '>',\n",
              " '?',\n",
              " '@',\n",
              " '[',\n",
              " '\\\\',\n",
              " ']',\n",
              " '^',\n",
              " '_',\n",
              " '`',\n",
              " '|',\n",
              " '~',\n",
              " '×',\n",
              " '̀',\n",
              " '́',\n",
              " '̇',\n",
              " '।',\n",
              " 'া',\n",
              " 'ে',\n",
              " '\\u200b',\n",
              " '\\u200d',\n",
              " '–',\n",
              " '—',\n",
              " '’',\n",
              " '“',\n",
              " '”',\n",
              " '…',\n",
              " '‸',\n",
              " '‼',\n",
              " '₱',\n",
              " '√',\n",
              " '◞',\n",
              " '◟',\n",
              " '★',\n",
              " '☑',\n",
              " '☹',\n",
              " '☺',\n",
              " '♀',\n",
              " '♂',\n",
              " '♡',\n",
              " '♥',\n",
              " '✅',\n",
              " '✋',\n",
              " '✌',\n",
              " '✝',\n",
              " '✨',\n",
              " '❌',\n",
              " '❗',\n",
              " '❣',\n",
              " '❤',\n",
              " '⭐',\n",
              " '。',\n",
              " '️',\n",
              " '！',\n",
              " '，',\n",
              " '？',\n",
              " '￼',\n",
              " '🅒',\n",
              " '🅛',\n",
              " '🅞',\n",
              " '🇰',\n",
              " '🇲',\n",
              " '🇵',\n",
              " '🇾',\n",
              " '🌚',\n",
              " '🌝',\n",
              " '🌞',\n",
              " '🌟',\n",
              " '🌼',\n",
              " '🍜',\n",
              " '🎉',\n",
              " '🏠',\n",
              " '🏻',\n",
              " '🏼',\n",
              " '🏽',\n",
              " '🐔',\n",
              " '🐕',\n",
              " '🐸',\n",
              " '🐼',\n",
              " '👀',\n",
              " '👁',\n",
              " '👄',\n",
              " '👆',\n",
              " '👈',\n",
              " '👉',\n",
              " '👊',\n",
              " '👌',\n",
              " '👍',\n",
              " '👎',\n",
              " '👏',\n",
              " '👑',\n",
              " '👹',\n",
              " '💀',\n",
              " '💐',\n",
              " '💓',\n",
              " '💕',\n",
              " '💖',\n",
              " '💗',\n",
              " '💚',\n",
              " '💜',\n",
              " '💝',\n",
              " '💞',\n",
              " '💟',\n",
              " '💢',\n",
              " '💩',\n",
              " '💪',\n",
              " '💯',\n",
              " '📍',\n",
              " '🖕',\n",
              " '🖤',\n",
              " '😀',\n",
              " '😁',\n",
              " '😂',\n",
              " '😃',\n",
              " '😄',\n",
              " '😅',\n",
              " '😆',\n",
              " '😇',\n",
              " '😉',\n",
              " '😊',\n",
              " '😋',\n",
              " '😌',\n",
              " '😍',\n",
              " '😎',\n",
              " '😏',\n",
              " '😐',\n",
              " '😑',\n",
              " '😒',\n",
              " '😓',\n",
              " '😔',\n",
              " '😕',\n",
              " '😖',\n",
              " '😗',\n",
              " '😘',\n",
              " '😚',\n",
              " '😜',\n",
              " '😝',\n",
              " '😞',\n",
              " '😠',\n",
              " '😡',\n",
              " '😢',\n",
              " '😣',\n",
              " '😤',\n",
              " '😥',\n",
              " '😩',\n",
              " '😪',\n",
              " '😫',\n",
              " '😬',\n",
              " '😭',\n",
              " '😮',\n",
              " '😶',\n",
              " '😻',\n",
              " '🙁',\n",
              " '🙂',\n",
              " '🙃',\n",
              " '🙄',\n",
              " '🙈',\n",
              " '🙌',\n",
              " '🙏',\n",
              " '🚚',\n",
              " '\\U0001f90d',\n",
              " '\\U0001f90f',\n",
              " '🤓',\n",
              " '🤔',\n",
              " '🤗',\n",
              " '🤟',\n",
              " '🤠',\n",
              " '🤣',\n",
              " '🤤',\n",
              " '🤥',\n",
              " '🤦',\n",
              " '🤨',\n",
              " '🤩',\n",
              " '🤬',\n",
              " '🤮',\n",
              " '🤲',\n",
              " '🤷',\n",
              " '🥰',\n",
              " '\\U0001f971',\n",
              " '🥳',\n",
              " '🥴',\n",
              " '🥵',\n",
              " '🥺',\n",
              " '🦋',\n",
              " '\\U0001f9ba'}"
            ]
          },
          "metadata": {},
          "execution_count": 16
        }
      ]
    },
    {
      "cell_type": "markdown",
      "metadata": {
        "id": "G-tmTspB-bOX"
      },
      "source": [
        "Let's remove these special characters from the reviews by applying a regular expression:"
      ]
    },
    {
      "cell_type": "code",
      "metadata": {
        "id": "J0xyctIV-cp-"
      },
      "source": [
        "review_backup = foodpanda_reviews['reviews_text_new'].copy()\n",
        "foodpanda_reviews['reviews_text_new'] = foodpanda_reviews['reviews_text_new'].str.replace(r'[^A-Za-z0-9 ]+', ' ')"
      ],
      "execution_count": null,
      "outputs": []
    },
    {
      "cell_type": "markdown",
      "metadata": {
        "id": "16tR7OLV-mdv"
      },
      "source": [
        "Let's decomose the regular expression `[^A-Za-z0-9 ]+`:\n",
        "- `[ ]`: match any character inside the list defined by the square brackets, including the space character `' '`\n",
        "- `^`: start of the line\n",
        "- `A-Z`: accept english upper case characters from A to Z\n",
        "- `a-z`: accept english lower case characters from a to z\n",
        "- `0-9`: accept single number characters from 0 to 9"
      ]
    },
    {
      "cell_type": "markdown",
      "metadata": {
        "id": "Fe2ajCH2-odz"
      },
      "source": [
        "We can see how our reviews change after removing these:"
      ]
    },
    {
      "cell_type": "code",
      "metadata": {
        "colab": {
          "base_uri": "https://localhost:8080/"
        },
        "id": "pSjNTr_G-qSG",
        "outputId": "1263fcc4-a7d5-4161-a0b2-faca5b1a6c05"
      },
      "source": [
        "print(\"- Old Review -\")\n",
        "print(review_backup.values[6])\n",
        "print(\"\\n- New Review -\")\n",
        "print(foodpanda_reviews['reviews_text_new'][6])"
      ],
      "execution_count": null,
      "outputs": [
        {
          "output_type": "stream",
          "name": "stdout",
          "text": [
            "- Old Review -\n",
            "dear fp, hei tolong lah include id for ur riders like grab. im a regular customers n this is not the first time this happened. everytime i made cod orders there are no problems. but when i made online payment, mcm2 hal jadi dekat order saya. cancel lah, tulis delivered tapi makanan tk sampai. do something!!!!!!!!\n",
            "\n",
            "- New Review -\n",
            "dear fp  hei tolong lah include id for ur riders like grab  im a regular customers n this is not the first time this happened  everytime i made cod orders there are no problems  but when i made online payment  mcm2 hal jadi dekat order saya  cancel lah  tulis delivered tapi makanan tk sampai  do something \n"
          ]
        }
      ]
    },
    {
      "cell_type": "markdown",
      "metadata": {
        "id": "RbVMzfbm-xRf"
      },
      "source": [
        "The number of unique tokens has dropped further:"
      ]
    },
    {
      "cell_type": "code",
      "metadata": {
        "colab": {
          "base_uri": "https://localhost:8080/"
        },
        "id": "wZtQDRe5-yfH",
        "outputId": "094d43b8-7a47-4d46-e490-6788020998ea"
      },
      "source": [
        "token_lists = [word_tokenize(each) for each in foodpanda_reviews['content']]\n",
        "tokens = [item for sublist in token_lists for item in sublist]\n",
        "print(\"Number of unique tokens then: \",len(set(tokens)))\n",
        "\n",
        "token_lists = [word_tokenize(each) for each in foodpanda_reviews['reviews_text_new']]\n",
        "tokens = [item for sublist in token_lists for item in sublist]\n",
        "print(\"Number of unique tokens now: \",len(set(tokens)))"
      ],
      "execution_count": null,
      "outputs": [
        {
          "output_type": "stream",
          "name": "stdout",
          "text": [
            "Number of unique tokens then:  14933\n",
            "Number of unique tokens now:  9706\n"
          ]
        }
      ]
    },
    {
      "cell_type": "markdown",
      "metadata": {
        "id": "EZJR4_6m-7Nn"
      },
      "source": [
        "### 3. Stopwords and high/low frequency words\n",
        "\n",
        "Stopwords naturally occur very frequently in the English language without adding any context specific insights. It makes sense to remove them. Let's first review what languages are available in the nltk package:"
      ]
    },
    {
      "cell_type": "code",
      "metadata": {
        "colab": {
          "base_uri": "https://localhost:8080/"
        },
        "id": "xhBWYoYn_Dul",
        "outputId": "f61fad85-f551-427e-d296-eba9d5d7f920"
      },
      "source": [
        "nltk.download('stopwords')"
      ],
      "execution_count": null,
      "outputs": [
        {
          "output_type": "stream",
          "name": "stdout",
          "text": [
            "[nltk_data] Downloading package stopwords to /root/nltk_data...\n",
            "[nltk_data]   Package stopwords is already up-to-date!\n"
          ]
        },
        {
          "output_type": "execute_result",
          "data": {
            "text/plain": [
              "True"
            ]
          },
          "metadata": {},
          "execution_count": 20
        }
      ]
    },
    {
      "cell_type": "code",
      "metadata": {
        "colab": {
          "base_uri": "https://localhost:8080/"
        },
        "id": "Bt1USQd2_BBA",
        "outputId": "50adaac2-ffaa-4115-8ef7-7b0ffec27496"
      },
      "source": [
        "from nltk.corpus import stopwords\n",
        "\n",
        "print('Available languages for NLTK v.3.4.5: ')\n",
        "print(stopwords.fileids())"
      ],
      "execution_count": null,
      "outputs": [
        {
          "output_type": "stream",
          "name": "stdout",
          "text": [
            "Available languages for NLTK v.3.4.5: \n",
            "['arabic', 'azerbaijani', 'bengali', 'danish', 'dutch', 'english', 'finnish', 'french', 'german', 'greek', 'hungarian', 'indonesian', 'italian', 'kazakh', 'nepali', 'norwegian', 'portuguese', 'romanian', 'russian', 'slovene', 'spanish', 'swedish', 'tajik', 'turkish']\n"
          ]
        }
      ]
    },
    {
      "cell_type": "markdown",
      "metadata": {
        "id": "0HJt8k3y_M70"
      },
      "source": [
        "Let's now review the list of English stopwords:"
      ]
    },
    {
      "cell_type": "code",
      "metadata": {
        "colab": {
          "base_uri": "https://localhost:8080/"
        },
        "id": "J6CTf8TU_OSs",
        "outputId": "9e4cca8c-5a02-431e-e4c9-90cc30d9fa58"
      },
      "source": [
        "noise_words = []\n",
        "eng_stop_words = stopwords.words('english')\n",
        "eng_stop_words"
      ],
      "execution_count": null,
      "outputs": [
        {
          "output_type": "execute_result",
          "data": {
            "text/plain": [
              "['i',\n",
              " 'me',\n",
              " 'my',\n",
              " 'myself',\n",
              " 'we',\n",
              " 'our',\n",
              " 'ours',\n",
              " 'ourselves',\n",
              " 'you',\n",
              " \"you're\",\n",
              " \"you've\",\n",
              " \"you'll\",\n",
              " \"you'd\",\n",
              " 'your',\n",
              " 'yours',\n",
              " 'yourself',\n",
              " 'yourselves',\n",
              " 'he',\n",
              " 'him',\n",
              " 'his',\n",
              " 'himself',\n",
              " 'she',\n",
              " \"she's\",\n",
              " 'her',\n",
              " 'hers',\n",
              " 'herself',\n",
              " 'it',\n",
              " \"it's\",\n",
              " 'its',\n",
              " 'itself',\n",
              " 'they',\n",
              " 'them',\n",
              " 'their',\n",
              " 'theirs',\n",
              " 'themselves',\n",
              " 'what',\n",
              " 'which',\n",
              " 'who',\n",
              " 'whom',\n",
              " 'this',\n",
              " 'that',\n",
              " \"that'll\",\n",
              " 'these',\n",
              " 'those',\n",
              " 'am',\n",
              " 'is',\n",
              " 'are',\n",
              " 'was',\n",
              " 'were',\n",
              " 'be',\n",
              " 'been',\n",
              " 'being',\n",
              " 'have',\n",
              " 'has',\n",
              " 'had',\n",
              " 'having',\n",
              " 'do',\n",
              " 'does',\n",
              " 'did',\n",
              " 'doing',\n",
              " 'a',\n",
              " 'an',\n",
              " 'the',\n",
              " 'and',\n",
              " 'but',\n",
              " 'if',\n",
              " 'or',\n",
              " 'because',\n",
              " 'as',\n",
              " 'until',\n",
              " 'while',\n",
              " 'of',\n",
              " 'at',\n",
              " 'by',\n",
              " 'for',\n",
              " 'with',\n",
              " 'about',\n",
              " 'against',\n",
              " 'between',\n",
              " 'into',\n",
              " 'through',\n",
              " 'during',\n",
              " 'before',\n",
              " 'after',\n",
              " 'above',\n",
              " 'below',\n",
              " 'to',\n",
              " 'from',\n",
              " 'up',\n",
              " 'down',\n",
              " 'in',\n",
              " 'out',\n",
              " 'on',\n",
              " 'off',\n",
              " 'over',\n",
              " 'under',\n",
              " 'again',\n",
              " 'further',\n",
              " 'then',\n",
              " 'once',\n",
              " 'here',\n",
              " 'there',\n",
              " 'when',\n",
              " 'where',\n",
              " 'why',\n",
              " 'how',\n",
              " 'all',\n",
              " 'any',\n",
              " 'both',\n",
              " 'each',\n",
              " 'few',\n",
              " 'more',\n",
              " 'most',\n",
              " 'other',\n",
              " 'some',\n",
              " 'such',\n",
              " 'no',\n",
              " 'nor',\n",
              " 'not',\n",
              " 'only',\n",
              " 'own',\n",
              " 'same',\n",
              " 'so',\n",
              " 'than',\n",
              " 'too',\n",
              " 'very',\n",
              " 's',\n",
              " 't',\n",
              " 'can',\n",
              " 'will',\n",
              " 'just',\n",
              " 'don',\n",
              " \"don't\",\n",
              " 'should',\n",
              " \"should've\",\n",
              " 'now',\n",
              " 'd',\n",
              " 'll',\n",
              " 'm',\n",
              " 'o',\n",
              " 're',\n",
              " 've',\n",
              " 'y',\n",
              " 'ain',\n",
              " 'aren',\n",
              " \"aren't\",\n",
              " 'couldn',\n",
              " \"couldn't\",\n",
              " 'didn',\n",
              " \"didn't\",\n",
              " 'doesn',\n",
              " \"doesn't\",\n",
              " 'hadn',\n",
              " \"hadn't\",\n",
              " 'hasn',\n",
              " \"hasn't\",\n",
              " 'haven',\n",
              " \"haven't\",\n",
              " 'isn',\n",
              " \"isn't\",\n",
              " 'ma',\n",
              " 'mightn',\n",
              " \"mightn't\",\n",
              " 'mustn',\n",
              " \"mustn't\",\n",
              " 'needn',\n",
              " \"needn't\",\n",
              " 'shan',\n",
              " \"shan't\",\n",
              " 'shouldn',\n",
              " \"shouldn't\",\n",
              " 'wasn',\n",
              " \"wasn't\",\n",
              " 'weren',\n",
              " \"weren't\",\n",
              " 'won',\n",
              " \"won't\",\n",
              " 'wouldn',\n",
              " \"wouldn't\"]"
            ]
          },
          "metadata": {},
          "execution_count": 22
        }
      ]
    },
    {
      "cell_type": "markdown",
      "metadata": {
        "id": "eJPrpZNL_Rr7"
      },
      "source": [
        "Here is an example of removing stopwords:"
      ]
    },
    {
      "cell_type": "code",
      "metadata": {
        "colab": {
          "base_uri": "https://localhost:8080/"
        },
        "id": "q9R7Sdzy_TA_",
        "outputId": "29ad3536-f129-4fe0-991f-2d98f03da044"
      },
      "source": [
        "stop_words = set(eng_stop_words)\n",
        "without_stop_words = []\n",
        "stopword = []\n",
        "sentence = foodpanda_reviews['reviews_text_new'][0]\n",
        "words = nltk.word_tokenize(sentence)\n",
        "\n",
        "for word in words:\n",
        "    if word in stop_words:\n",
        "        stopword.append(word)\n",
        "    else:\n",
        "        without_stop_words.append(word)\n",
        "\n",
        "print('-- Original Sentence --\\n', sentence)\n",
        "print('\\n-- Stopwords in the sentence --\\n', stopword)\n",
        "print('\\n-- Non-stopwords in the sentence --\\n', without_stop_words)"
      ],
      "execution_count": null,
      "outputs": [
        {
          "output_type": "stream",
          "name": "stdout",
          "text": [
            "-- Original Sentence --\n",
            " it s pretty good for where i live since most places have foodpanda now  i ve discovered a few of my favorite places thru this app  the radius for shops is a little diaappointing  there s a jollibee within my city that i can t order from because it s  too far  there s sometimes an issue where all shops will become unavailable even if they re open  i m not sure why it happens and it can be really frustrating \n",
            "\n",
            "-- Stopwords in the sentence --\n",
            " ['it', 's', 'for', 'where', 'i', 'most', 'have', 'now', 'i', 've', 'a', 'few', 'of', 'my', 'this', 'the', 'for', 'is', 'a', 'there', 's', 'a', 'my', 'that', 'i', 'can', 't', 'from', 'because', 'it', 's', 'too', 'there', 's', 'an', 'where', 'all', 'will', 'if', 'they', 're', 'i', 'm', 'not', 'why', 'it', 'and', 'it', 'can', 'be']\n",
            "\n",
            "-- Non-stopwords in the sentence --\n",
            " ['pretty', 'good', 'live', 'since', 'places', 'foodpanda', 'discovered', 'favorite', 'places', 'thru', 'app', 'radius', 'shops', 'little', 'diaappointing', 'jollibee', 'within', 'city', 'order', 'far', 'sometimes', 'issue', 'shops', 'become', 'unavailable', 'even', 'open', 'sure', 'happens', 'really', 'frustrating']\n"
          ]
        }
      ]
    },
    {
      "cell_type": "code",
      "metadata": {
        "colab": {
          "base_uri": "https://localhost:8080/"
        },
        "id": "jB0l9nP2_dTN",
        "outputId": "e0e8e8db-03a7-4345-9214-2b693ac020fe"
      },
      "source": [
        "def stopwords_removal(stop_words, sentence):\n",
        "    return [word for word in nltk.word_tokenize(sentence) if word not in stop_words]\n",
        "\n",
        "foodpanda_reviews['reviews_text_nonstop'] = foodpanda_reviews['reviews_text_new'].apply(lambda row: stopwords_removal(stop_words, row))\n",
        "foodpanda_reviews[['reviews_text_new','reviews_text_nonstop']]"
      ],
      "execution_count": null,
      "outputs": [
        {
          "output_type": "execute_result",
          "data": {
            "text/html": [
              "<div>\n",
              "<style scoped>\n",
              "    .dataframe tbody tr th:only-of-type {\n",
              "        vertical-align: middle;\n",
              "    }\n",
              "\n",
              "    .dataframe tbody tr th {\n",
              "        vertical-align: top;\n",
              "    }\n",
              "\n",
              "    .dataframe thead th {\n",
              "        text-align: right;\n",
              "    }\n",
              "</style>\n",
              "<table border=\"1\" class=\"dataframe\">\n",
              "  <thead>\n",
              "    <tr style=\"text-align: right;\">\n",
              "      <th></th>\n",
              "      <th>reviews_text_new</th>\n",
              "      <th>reviews_text_nonstop</th>\n",
              "    </tr>\n",
              "  </thead>\n",
              "  <tbody>\n",
              "    <tr>\n",
              "      <th>0</th>\n",
              "      <td>it s pretty good for where i live since most p...</td>\n",
              "      <td>[pretty, good, live, since, places, foodpanda,...</td>\n",
              "    </tr>\n",
              "    <tr>\n",
              "      <th>1</th>\n",
              "      <td>so fast delivery  i can eat whatever i want</td>\n",
              "      <td>[fast, delivery, eat, whatever, want]</td>\n",
              "    </tr>\n",
              "    <tr>\n",
              "      <th>2</th>\n",
              "      <td>sometime when it comes to 50  off promo some r...</td>\n",
              "      <td>[sometime, comes, 50, promo, restaurant, tempo...</td>\n",
              "    </tr>\n",
              "    <tr>\n",
              "      <th>3</th>\n",
              "      <td>order is taking too long</td>\n",
              "      <td>[order, taking, long]</td>\n",
              "    </tr>\n",
              "    <tr>\n",
              "      <th>4</th>\n",
              "      <td>nice app  good packing fast delivery</td>\n",
              "      <td>[nice, app, good, packing, fast, delivery]</td>\n",
              "    </tr>\n",
              "    <tr>\n",
              "      <th>...</th>\n",
              "      <td>...</td>\n",
              "      <td>...</td>\n",
              "    </tr>\n",
              "    <tr>\n",
              "      <th>9995</th>\n",
              "      <td>apps keep on showing refresh button and very h...</td>\n",
              "      <td>[apps, keep, showing, refresh, button, hard, p...</td>\n",
              "    </tr>\n",
              "    <tr>\n",
              "      <th>9996</th>\n",
              "      <td>im actually getting a bit annoyed with the app...</td>\n",
              "      <td>[im, actually, getting, bit, annoyed, app, tim...</td>\n",
              "    </tr>\n",
              "    <tr>\n",
              "      <th>9997</th>\n",
              "      <td>please fix this bug where your app loads endle...</td>\n",
              "      <td>[please, fix, bug, app, loads, endlessly, trie...</td>\n",
              "    </tr>\n",
              "    <tr>\n",
              "      <th>9998</th>\n",
              "      <td>this is really good app but sometimes it can t...</td>\n",
              "      <td>[really, good, app, sometimes, find, restauran...</td>\n",
              "    </tr>\n",
              "    <tr>\n",
              "      <th>9999</th>\n",
              "      <td>i could easily order my favorite food through ...</td>\n",
              "      <td>[could, easily, order, favorite, food, app, se...</td>\n",
              "    </tr>\n",
              "  </tbody>\n",
              "</table>\n",
              "<p>9013 rows × 2 columns</p>\n",
              "</div>"
            ],
            "text/plain": [
              "                                       reviews_text_new                               reviews_text_nonstop\n",
              "0     it s pretty good for where i live since most p...  [pretty, good, live, since, places, foodpanda,...\n",
              "1          so fast delivery  i can eat whatever i want               [fast, delivery, eat, whatever, want]\n",
              "2     sometime when it comes to 50  off promo some r...  [sometime, comes, 50, promo, restaurant, tempo...\n",
              "3                             order is taking too long                               [order, taking, long]\n",
              "4                  nice app  good packing fast delivery         [nice, app, good, packing, fast, delivery]\n",
              "...                                                 ...                                                ...\n",
              "9995  apps keep on showing refresh button and very h...  [apps, keep, showing, refresh, button, hard, p...\n",
              "9996  im actually getting a bit annoyed with the app...  [im, actually, getting, bit, annoyed, app, tim...\n",
              "9997  please fix this bug where your app loads endle...  [please, fix, bug, app, loads, endlessly, trie...\n",
              "9998  this is really good app but sometimes it can t...  [really, good, app, sometimes, find, restauran...\n",
              "9999  i could easily order my favorite food through ...  [could, easily, order, favorite, food, app, se...\n",
              "\n",
              "[9013 rows x 2 columns]"
            ]
          },
          "metadata": {},
          "execution_count": 24
        }
      ]
    },
    {
      "cell_type": "markdown",
      "metadata": {
        "id": "seVpr1xctpjt"
      },
      "source": [
        "# n-grams\n",
        "\n",
        "Since 1-grams are sometimes insufficient to understand the significance of certain words in our text, it is natural to consider blocks of words, or **n-grams**.\n",
        "\n",
        "The simplest version of the n-gram model, for $n > 1$, is the **bigram** model, which looks at pairs of consecutive words. For example, the sentence \"The quick brown fox jumps over the lazy dog\" would have tokens \"the quick\", \"quick brown\",..., \"lazy dog\". \n",
        "<br><br/>\n",
        "For this reason, it is often prudent to start by extracting as much value out of 1-grams as possible, before working our way up to more complex structures."
      ]
    },
    {
      "cell_type": "code",
      "metadata": {
        "id": "8hNGJerHvS4j"
      },
      "source": [
        "foodpanda_reviews[\"Positively Rated\"]= np.where(foodpanda_reviews[\"score\"] > 3, 1, 0)"
      ],
      "execution_count": null,
      "outputs": []
    },
    {
      "cell_type": "code",
      "metadata": {
        "colab": {
          "base_uri": "https://localhost:8080/",
          "height": 310
        },
        "id": "OigHJbUKv803",
        "outputId": "f8379160-9d9c-413e-8a3a-00f8717b9815"
      },
      "source": [
        "foodpanda_reviews.head(5)"
      ],
      "execution_count": null,
      "outputs": [
        {
          "output_type": "execute_result",
          "data": {
            "text/html": [
              "<div>\n",
              "<style scoped>\n",
              "    .dataframe tbody tr th:only-of-type {\n",
              "        vertical-align: middle;\n",
              "    }\n",
              "\n",
              "    .dataframe tbody tr th {\n",
              "        vertical-align: top;\n",
              "    }\n",
              "\n",
              "    .dataframe thead th {\n",
              "        text-align: right;\n",
              "    }\n",
              "</style>\n",
              "<table border=\"1\" class=\"dataframe\">\n",
              "  <thead>\n",
              "    <tr style=\"text-align: right;\">\n",
              "      <th></th>\n",
              "      <th>userName</th>\n",
              "      <th>score</th>\n",
              "      <th>at</th>\n",
              "      <th>content</th>\n",
              "      <th>Sentiment_rating</th>\n",
              "      <th>reviews_text_new</th>\n",
              "      <th>reviews_text_nonstop</th>\n",
              "      <th>Positively Rated</th>\n",
              "    </tr>\n",
              "  </thead>\n",
              "  <tbody>\n",
              "    <tr>\n",
              "      <th>0</th>\n",
              "      <td>C Ds</td>\n",
              "      <td>4</td>\n",
              "      <td>22/11/2021</td>\n",
              "      <td>It's pretty good for where I live since most p...</td>\n",
              "      <td>1</td>\n",
              "      <td>it s pretty good for where i live since most p...</td>\n",
              "      <td>[pretty, good, live, since, places, foodpanda,...</td>\n",
              "      <td>1</td>\n",
              "    </tr>\n",
              "    <tr>\n",
              "      <th>1</th>\n",
              "      <td>Gopa Banik</td>\n",
              "      <td>5</td>\n",
              "      <td>22/11/2021</td>\n",
              "      <td>So fast delivery... I can eat whatever i want..</td>\n",
              "      <td>1</td>\n",
              "      <td>so fast delivery  i can eat whatever i want</td>\n",
              "      <td>[fast, delivery, eat, whatever, want]</td>\n",
              "      <td>1</td>\n",
              "    </tr>\n",
              "    <tr>\n",
              "      <th>2</th>\n",
              "      <td>Blessyl Fejer</td>\n",
              "      <td>2</td>\n",
              "      <td>22/11/2021</td>\n",
              "      <td>Sometime when it comes to 50% off promo some r...</td>\n",
              "      <td>0</td>\n",
              "      <td>sometime when it comes to 50  off promo some r...</td>\n",
              "      <td>[sometime, comes, 50, promo, restaurant, tempo...</td>\n",
              "      <td>0</td>\n",
              "    </tr>\n",
              "    <tr>\n",
              "      <th>3</th>\n",
              "      <td>joyliepajoylie ph</td>\n",
              "      <td>1</td>\n",
              "      <td>22/11/2021</td>\n",
              "      <td>Order is taking too long.</td>\n",
              "      <td>0</td>\n",
              "      <td>order is taking too long</td>\n",
              "      <td>[order, taking, long]</td>\n",
              "      <td>0</td>\n",
              "    </tr>\n",
              "    <tr>\n",
              "      <th>4</th>\n",
              "      <td>abrar nisar</td>\n",
              "      <td>5</td>\n",
              "      <td>22/11/2021</td>\n",
              "      <td>Nice App. Good packing Fast delivery</td>\n",
              "      <td>1</td>\n",
              "      <td>nice app  good packing fast delivery</td>\n",
              "      <td>[nice, app, good, packing, fast, delivery]</td>\n",
              "      <td>1</td>\n",
              "    </tr>\n",
              "  </tbody>\n",
              "</table>\n",
              "</div>"
            ],
            "text/plain": [
              "            userName  ...  Positively Rated\n",
              "0               C Ds  ...                 1\n",
              "1         Gopa Banik  ...                 1\n",
              "2      Blessyl Fejer  ...                 0\n",
              "3  joyliepajoylie ph  ...                 0\n",
              "4        abrar nisar  ...                 1\n",
              "\n",
              "[5 rows x 8 columns]"
            ]
          },
          "metadata": {},
          "execution_count": 26
        }
      ]
    },
    {
      "cell_type": "code",
      "metadata": {
        "colab": {
          "base_uri": "https://localhost:8080/"
        },
        "id": "0P6mapkrw_Vy",
        "outputId": "5cd24bbf-7cba-4877-f9aa-7a5d08c9deec"
      },
      "source": [
        "foodpanda_reviews['Positively Rated'].value_counts()"
      ],
      "execution_count": null,
      "outputs": [
        {
          "output_type": "execute_result",
          "data": {
            "text/plain": [
              "0    5188\n",
              "1    3825\n",
              "Name: Positively Rated, dtype: int64"
            ]
          },
          "metadata": {},
          "execution_count": 27
        }
      ]
    },
    {
      "cell_type": "code",
      "metadata": {
        "colab": {
          "base_uri": "https://localhost:8080/",
          "height": 300
        },
        "id": "-AVpxMS8xDvH",
        "outputId": "81db8664-d15c-4b55-f185-86e032efd860"
      },
      "source": [
        "sns.countplot(foodpanda_reviews[\"Positively Rated\"])"
      ],
      "execution_count": null,
      "outputs": [
        {
          "output_type": "execute_result",
          "data": {
            "text/plain": [
              "<matplotlib.axes._subplots.AxesSubplot at 0x7f3ecd301bd0>"
            ]
          },
          "metadata": {},
          "execution_count": 28
        },
        {
          "output_type": "display_data",
          "data": {
            "image/png": "[encoded data removed]",
            "text/plain": [
              "<Figure size 432x288 with 1 Axes>"
            ]
          },
          "metadata": {
            "needs_background": "light"
          }
        }
      ]
    },
    {
      "cell_type": "code",
      "metadata": {
        "colab": {
          "base_uri": "https://localhost:8080/"
        },
        "id": "e0GMD354xItp",
        "outputId": "799469d1-76ed-4ec8-bed3-cf7e384932cf"
      },
      "source": [
        "foodpanda_reviews['Positively Rated'].describe()"
      ],
      "execution_count": null,
      "outputs": [
        {
          "output_type": "execute_result",
          "data": {
            "text/plain": [
              "count    9013.000000\n",
              "mean        0.424387\n",
              "std         0.494277\n",
              "min         0.000000\n",
              "25%         0.000000\n",
              "50%         0.000000\n",
              "75%         1.000000\n",
              "max         1.000000\n",
              "Name: Positively Rated, dtype: float64"
            ]
          },
          "metadata": {},
          "execution_count": 29
        }
      ]
    },
    {
      "cell_type": "code",
      "metadata": {
        "colab": {
          "base_uri": "https://localhost:8080/",
          "height": 206
        },
        "id": "PiR4fQ0Oxl5w",
        "outputId": "2f335bf0-8679-4ddb-8bd2-a11cdb73e695"
      },
      "source": [
        "foodpanda_reviews[['reviews_text_nonstop','Positively Rated']].tail(5)"
      ],
      "execution_count": null,
      "outputs": [
        {
          "output_type": "execute_result",
          "data": {
            "text/html": [
              "<div>\n",
              "<style scoped>\n",
              "    .dataframe tbody tr th:only-of-type {\n",
              "        vertical-align: middle;\n",
              "    }\n",
              "\n",
              "    .dataframe tbody tr th {\n",
              "        vertical-align: top;\n",
              "    }\n",
              "\n",
              "    .dataframe thead th {\n",
              "        text-align: right;\n",
              "    }\n",
              "</style>\n",
              "<table border=\"1\" class=\"dataframe\">\n",
              "  <thead>\n",
              "    <tr style=\"text-align: right;\">\n",
              "      <th></th>\n",
              "      <th>reviews_text_nonstop</th>\n",
              "      <th>Positively Rated</th>\n",
              "    </tr>\n",
              "  </thead>\n",
              "  <tbody>\n",
              "    <tr>\n",
              "      <th>9995</th>\n",
              "      <td>[apps, keep, showing, refresh, button, hard, p...</td>\n",
              "      <td>0</td>\n",
              "    </tr>\n",
              "    <tr>\n",
              "      <th>9996</th>\n",
              "      <td>[im, actually, getting, bit, annoyed, app, tim...</td>\n",
              "      <td>0</td>\n",
              "    </tr>\n",
              "    <tr>\n",
              "      <th>9997</th>\n",
              "      <td>[please, fix, bug, app, loads, endlessly, trie...</td>\n",
              "      <td>0</td>\n",
              "    </tr>\n",
              "    <tr>\n",
              "      <th>9998</th>\n",
              "      <td>[really, good, app, sometimes, find, restauran...</td>\n",
              "      <td>1</td>\n",
              "    </tr>\n",
              "    <tr>\n",
              "      <th>9999</th>\n",
              "      <td>[could, easily, order, favorite, food, app, se...</td>\n",
              "      <td>1</td>\n",
              "    </tr>\n",
              "  </tbody>\n",
              "</table>\n",
              "</div>"
            ],
            "text/plain": [
              "                                   reviews_text_nonstop  Positively Rated\n",
              "9995  [apps, keep, showing, refresh, button, hard, p...                 0\n",
              "9996  [im, actually, getting, bit, annoyed, app, tim...                 0\n",
              "9997  [please, fix, bug, app, loads, endlessly, trie...                 0\n",
              "9998  [really, good, app, sometimes, find, restauran...                 1\n",
              "9999  [could, easily, order, favorite, food, app, se...                 1"
            ]
          },
          "metadata": {},
          "execution_count": 30
        }
      ]
    },
    {
      "cell_type": "markdown",
      "metadata": {
        "id": "SBN3amtMxM6z"
      },
      "source": [
        "## Building a machine learning model"
      ]
    },
    {
      "cell_type": "code",
      "metadata": {
        "id": "AuOg_k8DxLrs"
      },
      "source": [
        "from sklearn.model_selection import train_test_split"
      ],
      "execution_count": null,
      "outputs": []
    },
    {
      "cell_type": "code",
      "metadata": {
        "id": "iwg1V3uH7CBD"
      },
      "source": [
        "foodpanda_reviews['cleandata'] = [' '.join(map(str, l)) for l in foodpanda_reviews['reviews_text_nonstop']]\n"
      ],
      "execution_count": null,
      "outputs": []
    },
    {
      "cell_type": "code",
      "metadata": {
        "colab": {
          "base_uri": "https://localhost:8080/"
        },
        "id": "Xx6XZS1w7SUZ",
        "outputId": "f82339fd-423b-4f4f-ce84-bee91afe76d8"
      },
      "source": [
        "foodpanda_reviews['cleandata'].tail(5)"
      ],
      "execution_count": null,
      "outputs": [
        {
          "output_type": "execute_result",
          "data": {
            "text/plain": [
              "9995    apps keep showing refresh button hard place or...\n",
              "9996    im actually getting bit annoyed app times ok t...\n",
              "9997    please fix bug app loads endlessly tried reins...\n",
              "9998    really good app sometimes find restaurants sat...\n",
              "9999    could easily order favorite food app secured o...\n",
              "Name: cleandata, dtype: object"
            ]
          },
          "metadata": {},
          "execution_count": 33
        }
      ]
    },
    {
      "cell_type": "code",
      "metadata": {
        "id": "DwDTCDsRzYkB"
      },
      "source": [
        "X_train, X_test, y_train, y_test = train_test_split(\n",
        "foodpanda_reviews['cleandata'],\n",
        "foodpanda_reviews['Positively Rated'],\n",
        "random_state=0)"
      ],
      "execution_count": null,
      "outputs": []
    },
    {
      "cell_type": "code",
      "metadata": {
        "colab": {
          "base_uri": "https://localhost:8080/"
        },
        "id": "E-KnOEfYzwFj",
        "outputId": "8f0a2fa0-27c1-4fee-f8d8-a06911bb6589"
      },
      "source": [
        "print(X_train)"
      ],
      "execution_count": null,
      "outputs": [
        {
          "output_type": "stream",
          "name": "stdout",
          "text": [
            "8830    update 03 07 2021 1 star api issue even make p...\n",
            "7357             discount ever works bugs app show errors\n",
            "4807    meat section need improvement got rotten chick...\n",
            "591                            love order food convenient\n",
            "143     completely wrong tracking obviously fd want ta...\n",
            "                              ...                        \n",
            "4776                       times order arrive differently\n",
            "8732    sorry foodpanda change rating 5 2 stars delive...\n",
            "5348    pretty good bugs make constant updates fix bug...\n",
            "3541    disappointed one time coz created another acc ...\n",
            "2966    experience foodpanda quite long time order for...\n",
            "Name: cleandata, Length: 6759, dtype: object\n"
          ]
        }
      ]
    },
    {
      "cell_type": "code",
      "metadata": {
        "colab": {
          "base_uri": "https://localhost:8080/",
          "height": 53
        },
        "id": "Mrd_xX34zzKY",
        "outputId": "26e47d77-3314-45e6-a576-7b978d75b2a1"
      },
      "source": [
        "X_train[0]"
      ],
      "execution_count": null,
      "outputs": [
        {
          "output_type": "execute_result",
          "data": {
            "application/vnd.google.colaboratory.intrinsic+json": {
              "type": "string"
            },
            "text/plain": [
              "'pretty good live since places foodpanda discovered favorite places thru app radius shops little diaappointing jollibee within city order far sometimes issue shops become unavailable even open sure happens really frustrating'"
            ]
          },
          "metadata": {},
          "execution_count": 36
        }
      ]
    },
    {
      "cell_type": "markdown",
      "metadata": {
        "id": "WGj_uX8pCuuK"
      },
      "source": [
        "##Unigram"
      ]
    },
    {
      "cell_type": "code",
      "metadata": {
        "id": "CsoPwcX2CP9B"
      },
      "source": [
        "from sklearn.feature_extraction.text import CountVectorizer\n",
        "vect = CountVectorizer(min_df= 5, ngram_range=(1,1)).fit(X_train)"
      ],
      "execution_count": null,
      "outputs": []
    },
    {
      "cell_type": "code",
      "metadata": {
        "colab": {
          "base_uri": "https://localhost:8080/"
        },
        "id": "u85gmNCICTWq",
        "outputId": "0dfd494c-6588-4986-bc90-377e5879af93"
      },
      "source": [
        "len(vect.get_feature_names())"
      ],
      "execution_count": null,
      "outputs": [
        {
          "output_type": "execute_result",
          "data": {
            "text/plain": [
              "1979"
            ]
          },
          "metadata": {},
          "execution_count": 38
        }
      ]
    },
    {
      "cell_type": "code",
      "metadata": {
        "id": "6WMBKbzwCVO8"
      },
      "source": [
        "X_train_vectorized = vect.transform(X_train)"
      ],
      "execution_count": null,
      "outputs": []
    },
    {
      "cell_type": "code",
      "metadata": {
        "colab": {
          "base_uri": "https://localhost:8080/"
        },
        "id": "pSl9P-AwCXLW",
        "outputId": "32397d1a-d9f3-40a2-f571-5fcf07ce7137"
      },
      "source": [
        "from sklearn.linear_model import LogisticRegression\n",
        "model = LogisticRegression()\n",
        "model.fit(X_train_vectorized, y_train)"
      ],
      "execution_count": null,
      "outputs": [
        {
          "output_type": "execute_result",
          "data": {
            "text/plain": [
              "LogisticRegression()"
            ]
          },
          "metadata": {},
          "execution_count": 40
        }
      ]
    },
    {
      "cell_type": "code",
      "metadata": {
        "id": "-tqmtRu1CZRy"
      },
      "source": [
        "# Save predictions\n",
        "predictions = model.predict(vect.transform(X_test))"
      ],
      "execution_count": null,
      "outputs": []
    },
    {
      "cell_type": "code",
      "metadata": {
        "colab": {
          "base_uri": "https://localhost:8080/"
        },
        "id": "lgx-sAvgCav6",
        "outputId": "07fe8e66-e771-4838-d307-98e4082e2587"
      },
      "source": [
        "print(predictions)"
      ],
      "execution_count": null,
      "outputs": [
        {
          "output_type": "stream",
          "name": "stdout",
          "text": [
            "[0 1 0 ... 1 1 1]\n"
          ]
        }
      ]
    },
    {
      "cell_type": "code",
      "metadata": {
        "colab": {
          "base_uri": "https://localhost:8080/"
        },
        "id": "Vit5alr0CcVe",
        "outputId": "787084e9-a7c3-4a59-b4bf-1d8b63dd0b79"
      },
      "source": [
        "print(y_test)"
      ],
      "execution_count": null,
      "outputs": [
        {
          "output_type": "stream",
          "name": "stdout",
          "text": [
            "8034    0\n",
            "2674    1\n",
            "5097    0\n",
            "8817    1\n",
            "3356    0\n",
            "       ..\n",
            "3966    0\n",
            "1982    1\n",
            "989     1\n",
            "5091    1\n",
            "2760    1\n",
            "Name: Positively Rated, Length: 2254, dtype: int64\n"
          ]
        }
      ]
    },
    {
      "cell_type": "code",
      "metadata": {
        "colab": {
          "base_uri": "https://localhost:8080/"
        },
        "id": "o2KhodIFCeBW",
        "outputId": "21790e28-f276-4bac-dd54-6b13d7eb9a11"
      },
      "source": [
        "# AUC\n",
        "from sklearn.metrics import roc_auc_score\n",
        "print(\"AUC score is\", roc_auc_score(y_test, predictions))"
      ],
      "execution_count": null,
      "outputs": [
        {
          "output_type": "stream",
          "name": "stdout",
          "text": [
            "AUC score is 0.8636563415739632\n"
          ]
        }
      ]
    },
    {
      "cell_type": "code",
      "metadata": {
        "id": "7_kVSW2cCfhJ"
      },
      "source": [
        "feature_names = np.array(vect.get_feature_names())\n",
        "sorted_coef_index = model.coef_[0].argsort()"
      ],
      "execution_count": null,
      "outputs": []
    },
    {
      "cell_type": "code",
      "metadata": {
        "colab": {
          "base_uri": "https://localhost:8080/"
        },
        "id": "l1ItvFrZChZC",
        "outputId": "78cd9308-adce-4f91-983b-354027c49483"
      },
      "source": [
        "print(\"Negative words\", feature_names[sorted_coef_index[:10]])"
      ],
      "execution_count": null,
      "outputs": [
        {
          "output_type": "stream",
          "name": "stdout",
          "text": [
            "Negative words ['awful' 'poor' 'sucks' 'disappointing' 'expect' 'hate' 'uninstall'\n",
            " 'disappointed' 'lousy' 'worse']\n"
          ]
        }
      ]
    },
    {
      "cell_type": "code",
      "metadata": {
        "colab": {
          "base_uri": "https://localhost:8080/"
        },
        "id": "Nd-AfLBBCjjJ",
        "outputId": "3f380cc7-30ac-4e2a-c7a1-4ab61991c2f7"
      },
      "source": [
        "print(\"Positive words\", feature_names[sorted_coef_index[:-11:-1]])"
      ],
      "execution_count": null,
      "outputs": [
        {
          "output_type": "stream",
          "name": "stdout",
          "text": [
            "Positive words ['easy' 'excellent' 'nice' 'great' 'best' 'love' 'amazing' 'fast'\n",
            " 'improved' 'popping']\n"
          ]
        }
      ]
    },
    {
      "cell_type": "code",
      "metadata": {
        "id": "P4m_-3u7Gjn8"
      },
      "source": [
        "top10 = pd.DataFrame(columns = ['id'])\n",
        "top10['id']= [1,2,3,4,5,6,7,8,9,10]"
      ],
      "execution_count": null,
      "outputs": []
    },
    {
      "cell_type": "code",
      "metadata": {
        "id": "IFViZnT3HvUV"
      },
      "source": [
        "top10['unigram_pos']= feature_names[sorted_coef_index[:-11:-1]]\n",
        "top10['unigram_neg']= feature_names[sorted_coef_index[:10]]"
      ],
      "execution_count": null,
      "outputs": []
    },
    {
      "cell_type": "code",
      "metadata": {
        "colab": {
          "base_uri": "https://localhost:8080/",
          "height": 363
        },
        "id": "G75XMZ6yH3a5",
        "outputId": "df25a9aa-1284-4e5c-8392-d5e484002fb3"
      },
      "source": [
        "top10"
      ],
      "execution_count": null,
      "outputs": [
        {
          "output_type": "execute_result",
          "data": {
            "text/html": [
              "<div>\n",
              "<style scoped>\n",
              "    .dataframe tbody tr th:only-of-type {\n",
              "        vertical-align: middle;\n",
              "    }\n",
              "\n",
              "    .dataframe tbody tr th {\n",
              "        vertical-align: top;\n",
              "    }\n",
              "\n",
              "    .dataframe thead th {\n",
              "        text-align: right;\n",
              "    }\n",
              "</style>\n",
              "<table border=\"1\" class=\"dataframe\">\n",
              "  <thead>\n",
              "    <tr style=\"text-align: right;\">\n",
              "      <th></th>\n",
              "      <th>id</th>\n",
              "      <th>unigram_pos</th>\n",
              "      <th>unigram_neg</th>\n",
              "    </tr>\n",
              "  </thead>\n",
              "  <tbody>\n",
              "    <tr>\n",
              "      <th>0</th>\n",
              "      <td>1</td>\n",
              "      <td>easy</td>\n",
              "      <td>awful</td>\n",
              "    </tr>\n",
              "    <tr>\n",
              "      <th>1</th>\n",
              "      <td>2</td>\n",
              "      <td>excellent</td>\n",
              "      <td>poor</td>\n",
              "    </tr>\n",
              "    <tr>\n",
              "      <th>2</th>\n",
              "      <td>3</td>\n",
              "      <td>nice</td>\n",
              "      <td>sucks</td>\n",
              "    </tr>\n",
              "    <tr>\n",
              "      <th>3</th>\n",
              "      <td>4</td>\n",
              "      <td>great</td>\n",
              "      <td>disappointing</td>\n",
              "    </tr>\n",
              "    <tr>\n",
              "      <th>4</th>\n",
              "      <td>5</td>\n",
              "      <td>best</td>\n",
              "      <td>expect</td>\n",
              "    </tr>\n",
              "    <tr>\n",
              "      <th>5</th>\n",
              "      <td>6</td>\n",
              "      <td>love</td>\n",
              "      <td>hate</td>\n",
              "    </tr>\n",
              "    <tr>\n",
              "      <th>6</th>\n",
              "      <td>7</td>\n",
              "      <td>amazing</td>\n",
              "      <td>uninstall</td>\n",
              "    </tr>\n",
              "    <tr>\n",
              "      <th>7</th>\n",
              "      <td>8</td>\n",
              "      <td>fast</td>\n",
              "      <td>disappointed</td>\n",
              "    </tr>\n",
              "    <tr>\n",
              "      <th>8</th>\n",
              "      <td>9</td>\n",
              "      <td>improved</td>\n",
              "      <td>lousy</td>\n",
              "    </tr>\n",
              "    <tr>\n",
              "      <th>9</th>\n",
              "      <td>10</td>\n",
              "      <td>popping</td>\n",
              "      <td>worse</td>\n",
              "    </tr>\n",
              "  </tbody>\n",
              "</table>\n",
              "</div>"
            ],
            "text/plain": [
              "   id unigram_pos    unigram_neg\n",
              "0   1        easy          awful\n",
              "1   2   excellent           poor\n",
              "2   3        nice          sucks\n",
              "3   4       great  disappointing\n",
              "4   5        best         expect\n",
              "5   6        love           hate\n",
              "6   7     amazing      uninstall\n",
              "7   8        fast   disappointed\n",
              "8   9    improved          lousy\n",
              "9  10     popping          worse"
            ]
          },
          "metadata": {},
          "execution_count": 50
        }
      ]
    },
    {
      "cell_type": "markdown",
      "metadata": {
        "id": "ZhKH6T6EDBwM"
      },
      "source": [
        "##Bigram"
      ]
    },
    {
      "cell_type": "code",
      "metadata": {
        "id": "d8GUVwSRDBwN"
      },
      "source": [
        "from sklearn.feature_extraction.text import CountVectorizer\n",
        "vect = CountVectorizer(min_df= 5, ngram_range=(2,2)).fit(X_train)"
      ],
      "execution_count": null,
      "outputs": []
    },
    {
      "cell_type": "code",
      "metadata": {
        "colab": {
          "base_uri": "https://localhost:8080/"
        },
        "id": "JmQGW5gnDBwN",
        "outputId": "367ea7de-bddb-4176-c1e2-c9de8e63cb3d"
      },
      "source": [
        "len(vect.get_feature_names())"
      ],
      "execution_count": null,
      "outputs": [
        {
          "output_type": "execute_result",
          "data": {
            "text/plain": [
              "2042"
            ]
          },
          "metadata": {},
          "execution_count": 52
        }
      ]
    },
    {
      "cell_type": "code",
      "metadata": {
        "id": "gjge0Oi2DBwN"
      },
      "source": [
        "X_train_vectorized = vect.transform(X_train)"
      ],
      "execution_count": null,
      "outputs": []
    },
    {
      "cell_type": "code",
      "metadata": {
        "colab": {
          "base_uri": "https://localhost:8080/"
        },
        "id": "AFd-MOI0DBwN",
        "outputId": "eb18ba6f-067b-4455-af6c-8858de993844"
      },
      "source": [
        "from sklearn.linear_model import LogisticRegression\n",
        "model = LogisticRegression()\n",
        "model.fit(X_train_vectorized, y_train)"
      ],
      "execution_count": null,
      "outputs": [
        {
          "output_type": "execute_result",
          "data": {
            "text/plain": [
              "LogisticRegression()"
            ]
          },
          "metadata": {},
          "execution_count": 54
        }
      ]
    },
    {
      "cell_type": "code",
      "metadata": {
        "id": "8MnPNZDADBwN"
      },
      "source": [
        "# Save predictions\n",
        "predictions = model.predict(vect.transform(X_test))"
      ],
      "execution_count": null,
      "outputs": []
    },
    {
      "cell_type": "code",
      "metadata": {
        "colab": {
          "base_uri": "https://localhost:8080/"
        },
        "id": "ehZN2euCDBwO",
        "outputId": "07d893b4-da6d-4cf1-b41a-fd0562bb7a86"
      },
      "source": [
        "print(predictions)"
      ],
      "execution_count": null,
      "outputs": [
        {
          "output_type": "stream",
          "name": "stdout",
          "text": [
            "[0 1 0 ... 1 0 1]\n"
          ]
        }
      ]
    },
    {
      "cell_type": "code",
      "metadata": {
        "colab": {
          "base_uri": "https://localhost:8080/"
        },
        "id": "mQK9yzXMDBwO",
        "outputId": "26a6fc97-b0e2-49ac-b6fb-d7fd6ad4a115"
      },
      "source": [
        "print(y_test)"
      ],
      "execution_count": null,
      "outputs": [
        {
          "output_type": "stream",
          "name": "stdout",
          "text": [
            "8034    0\n",
            "2674    1\n",
            "5097    0\n",
            "8817    1\n",
            "3356    0\n",
            "       ..\n",
            "3966    0\n",
            "1982    1\n",
            "989     1\n",
            "5091    1\n",
            "2760    1\n",
            "Name: Positively Rated, Length: 2254, dtype: int64\n"
          ]
        }
      ]
    },
    {
      "cell_type": "code",
      "metadata": {
        "colab": {
          "base_uri": "https://localhost:8080/"
        },
        "id": "1e2sRoUjDBwO",
        "outputId": "328ded78-dce3-4276-8733-23368bf0734c"
      },
      "source": [
        "# AUC\n",
        "from sklearn.metrics import roc_auc_score\n",
        "print(\"AUC score is\", roc_auc_score(y_test, predictions))"
      ],
      "execution_count": null,
      "outputs": [
        {
          "output_type": "stream",
          "name": "stdout",
          "text": [
            "AUC score is 0.7708064527857067\n"
          ]
        }
      ]
    },
    {
      "cell_type": "code",
      "metadata": {
        "id": "guQSLd5SDBwO"
      },
      "source": [
        "feature_names = np.array(vect.get_feature_names())\n",
        "sorted_coef_index = model.coef_[0].argsort()"
      ],
      "execution_count": null,
      "outputs": []
    },
    {
      "cell_type": "code",
      "metadata": {
        "colab": {
          "base_uri": "https://localhost:8080/"
        },
        "id": "P6mwHXTTDBwO",
        "outputId": "0dcaee4e-4d32-4597-9f63-b62fdac58521"
      },
      "source": [
        "print(\"Negative words\", feature_names[sorted_coef_index[:10]])"
      ],
      "execution_count": null,
      "outputs": [
        {
          "output_type": "stream",
          "name": "stdout",
          "text": [
            "Negative words ['waste time' 'cancelled order' 'worst app' 'poor app' 'useless app'\n",
            " 'unknown error' 'bad service' 'items ordered' 'food price' 'pick order']\n"
          ]
        }
      ]
    },
    {
      "cell_type": "code",
      "metadata": {
        "colab": {
          "base_uri": "https://localhost:8080/"
        },
        "id": "4D7HtLguDBwO",
        "outputId": "99da7a15-55bb-4067-ae51-1ea44470f6ab"
      },
      "source": [
        "print(\"Positive words\", feature_names[sorted_coef_index[:-11:-1]])"
      ],
      "execution_count": null,
      "outputs": [
        {
          "output_type": "stream",
          "name": "stdout",
          "text": [
            "Positive words ['easy use' 'fast delivery' 'easy order' 'great app' 'nice app'\n",
            " 'best food' 'useful app' 'great service' 'good service'\n",
            " 'great experience']\n"
          ]
        }
      ]
    },
    {
      "cell_type": "code",
      "metadata": {
        "id": "Fso_E4BMIOuN"
      },
      "source": [
        "top10['bigram_pos']= feature_names[sorted_coef_index[:-11:-1]]\n",
        "top10['bigram_neg']= feature_names[sorted_coef_index[:10]]"
      ],
      "execution_count": null,
      "outputs": []
    },
    {
      "cell_type": "markdown",
      "metadata": {
        "id": "dTHj-32fDPRD"
      },
      "source": [
        "##Trigram"
      ]
    },
    {
      "cell_type": "code",
      "metadata": {
        "id": "yBebR8GSDPRL"
      },
      "source": [
        "from sklearn.feature_extraction.text import CountVectorizer\n",
        "vect = CountVectorizer(min_df= 5, ngram_range=(3,3)).fit(X_train)"
      ],
      "execution_count": null,
      "outputs": []
    },
    {
      "cell_type": "code",
      "metadata": {
        "colab": {
          "base_uri": "https://localhost:8080/"
        },
        "id": "Hsvi4nSNDPRL",
        "outputId": "a96b3d09-826e-4d4e-d256-85a7a8d92ac2"
      },
      "source": [
        "len(vect.get_feature_names())"
      ],
      "execution_count": null,
      "outputs": [
        {
          "output_type": "execute_result",
          "data": {
            "text/plain": [
              "218"
            ]
          },
          "metadata": {},
          "execution_count": 64
        }
      ]
    },
    {
      "cell_type": "code",
      "metadata": {
        "id": "Pmr53tZCDPRL"
      },
      "source": [
        "X_train_vectorized = vect.transform(X_train)"
      ],
      "execution_count": null,
      "outputs": []
    },
    {
      "cell_type": "code",
      "metadata": {
        "colab": {
          "base_uri": "https://localhost:8080/"
        },
        "id": "vjV318a8DPRM",
        "outputId": "8f85f564-ab9a-4861-f1c9-3b578d4d9cf9"
      },
      "source": [
        "from sklearn.linear_model import LogisticRegression\n",
        "model = LogisticRegression()\n",
        "model.fit(X_train_vectorized, y_train)"
      ],
      "execution_count": null,
      "outputs": [
        {
          "output_type": "execute_result",
          "data": {
            "text/plain": [
              "LogisticRegression()"
            ]
          },
          "metadata": {},
          "execution_count": 66
        }
      ]
    },
    {
      "cell_type": "code",
      "metadata": {
        "id": "Gdah_zX4DPRM"
      },
      "source": [
        "# Save predictions\n",
        "predictions = model.predict(vect.transform(X_test))"
      ],
      "execution_count": null,
      "outputs": []
    },
    {
      "cell_type": "code",
      "metadata": {
        "colab": {
          "base_uri": "https://localhost:8080/"
        },
        "id": "406rm2jtDPRM",
        "outputId": "a1f5a2c6-e7bb-4a6a-ab81-5af6d145ad58"
      },
      "source": [
        "print(predictions)"
      ],
      "execution_count": null,
      "outputs": [
        {
          "output_type": "stream",
          "name": "stdout",
          "text": [
            "[0 0 0 ... 0 0 0]\n"
          ]
        }
      ]
    },
    {
      "cell_type": "code",
      "metadata": {
        "colab": {
          "base_uri": "https://localhost:8080/"
        },
        "id": "H_rtseZvDPRM",
        "outputId": "2ef01dfe-3396-4228-857c-544656b60736"
      },
      "source": [
        "print(y_test)"
      ],
      "execution_count": null,
      "outputs": [
        {
          "output_type": "stream",
          "name": "stdout",
          "text": [
            "8034    0\n",
            "2674    1\n",
            "5097    0\n",
            "8817    1\n",
            "3356    0\n",
            "       ..\n",
            "3966    0\n",
            "1982    1\n",
            "989     1\n",
            "5091    1\n",
            "2760    1\n",
            "Name: Positively Rated, Length: 2254, dtype: int64\n"
          ]
        }
      ]
    },
    {
      "cell_type": "code",
      "metadata": {
        "colab": {
          "base_uri": "https://localhost:8080/"
        },
        "id": "FgOMdPxNDPRN",
        "outputId": "658b4477-e573-412c-c60b-1e279ba936c2"
      },
      "source": [
        "# AUC\n",
        "from sklearn.metrics import roc_auc_score\n",
        "print(\"AUC score is\", roc_auc_score(y_test, predictions))"
      ],
      "execution_count": null,
      "outputs": [
        {
          "output_type": "stream",
          "name": "stdout",
          "text": [
            "AUC score is 0.5468765779908205\n"
          ]
        }
      ]
    },
    {
      "cell_type": "code",
      "metadata": {
        "id": "hR74fzqQDPRO"
      },
      "source": [
        "feature_names = np.array(vect.get_feature_names())\n",
        "sorted_coef_index = model.coef_[0].argsort()"
      ],
      "execution_count": null,
      "outputs": []
    },
    {
      "cell_type": "code",
      "metadata": {
        "colab": {
          "base_uri": "https://localhost:8080/"
        },
        "id": "Hqi5sJErDPRO",
        "outputId": "6b0bd18d-dc46-4123-95c9-864f6e15d483"
      },
      "source": [
        "print(\"Negative words\", feature_names[sorted_coef_index[:10]])"
      ],
      "execution_count": null,
      "outputs": [
        {
          "output_type": "stream",
          "name": "stdout",
          "text": [
            "Negative words ['worst app ever' 'worst food delivery' 'bad customer service'\n",
            " 'poor customer service' 'worst customer service' 'get money back'\n",
            " 'order got cancelled' 'better use grab' 'says unknown error'\n",
            " 'estimated delivery time']\n"
          ]
        }
      ]
    },
    {
      "cell_type": "code",
      "metadata": {
        "colab": {
          "base_uri": "https://localhost:8080/"
        },
        "id": "857N-FgTDPRO",
        "outputId": "484c322c-30d9-492e-b9dd-8a281da75b83"
      },
      "source": [
        "print(\"Positive words\", feature_names[sorted_coef_index[:-11:-1]])"
      ],
      "execution_count": null,
      "outputs": [
        {
          "output_type": "stream",
          "name": "stdout",
          "text": [
            "Positive words ['easy order food' 'thank food panda' 'keep good work' 'app easy use'\n",
            " 'best food delivery' 'easy use app' 'overall good experience'\n",
            " 'thanks food panda' 'best food app' 'really good app']\n"
          ]
        }
      ]
    },
    {
      "cell_type": "code",
      "metadata": {
        "id": "p5zNVj5GIgFi"
      },
      "source": [
        "top10['trigram_pos']= feature_names[sorted_coef_index[:-11:-1]]\n",
        "top10['trigram_neg']= feature_names[sorted_coef_index[:10]]"
      ],
      "execution_count": null,
      "outputs": []
    },
    {
      "cell_type": "code",
      "metadata": {
        "colab": {
          "base_uri": "https://localhost:8080/",
          "height": 363
        },
        "id": "yKjzltHyIp3x",
        "outputId": "810ce9e0-2d1e-4d49-9958-317f59cbbe21"
      },
      "source": [
        "top10"
      ],
      "execution_count": null,
      "outputs": [
        {
          "output_type": "execute_result",
          "data": {
            "text/html": [
              "<div>\n",
              "<style scoped>\n",
              "    .dataframe tbody tr th:only-of-type {\n",
              "        vertical-align: middle;\n",
              "    }\n",
              "\n",
              "    .dataframe tbody tr th {\n",
              "        vertical-align: top;\n",
              "    }\n",
              "\n",
              "    .dataframe thead th {\n",
              "        text-align: right;\n",
              "    }\n",
              "</style>\n",
              "<table border=\"1\" class=\"dataframe\">\n",
              "  <thead>\n",
              "    <tr style=\"text-align: right;\">\n",
              "      <th></th>\n",
              "      <th>id</th>\n",
              "      <th>unigram_pos</th>\n",
              "      <th>unigram_neg</th>\n",
              "      <th>bigram_pos</th>\n",
              "      <th>bigram_neg</th>\n",
              "      <th>trigram_pos</th>\n",
              "      <th>trigram_neg</th>\n",
              "    </tr>\n",
              "  </thead>\n",
              "  <tbody>\n",
              "    <tr>\n",
              "      <th>0</th>\n",
              "      <td>1</td>\n",
              "      <td>easy</td>\n",
              "      <td>awful</td>\n",
              "      <td>easy use</td>\n",
              "      <td>waste time</td>\n",
              "      <td>easy order food</td>\n",
              "      <td>worst app ever</td>\n",
              "    </tr>\n",
              "    <tr>\n",
              "      <th>1</th>\n",
              "      <td>2</td>\n",
              "      <td>excellent</td>\n",
              "      <td>poor</td>\n",
              "      <td>fast delivery</td>\n",
              "      <td>cancelled order</td>\n",
              "      <td>thank food panda</td>\n",
              "      <td>worst food delivery</td>\n",
              "    </tr>\n",
              "    <tr>\n",
              "      <th>2</th>\n",
              "      <td>3</td>\n",
              "      <td>nice</td>\n",
              "      <td>sucks</td>\n",
              "      <td>easy order</td>\n",
              "      <td>worst app</td>\n",
              "      <td>keep good work</td>\n",
              "      <td>bad customer service</td>\n",
              "    </tr>\n",
              "    <tr>\n",
              "      <th>3</th>\n",
              "      <td>4</td>\n",
              "      <td>great</td>\n",
              "      <td>disappointing</td>\n",
              "      <td>great app</td>\n",
              "      <td>poor app</td>\n",
              "      <td>app easy use</td>\n",
              "      <td>poor customer service</td>\n",
              "    </tr>\n",
              "    <tr>\n",
              "      <th>4</th>\n",
              "      <td>5</td>\n",
              "      <td>best</td>\n",
              "      <td>expect</td>\n",
              "      <td>nice app</td>\n",
              "      <td>useless app</td>\n",
              "      <td>best food delivery</td>\n",
              "      <td>worst customer service</td>\n",
              "    </tr>\n",
              "    <tr>\n",
              "      <th>5</th>\n",
              "      <td>6</td>\n",
              "      <td>love</td>\n",
              "      <td>hate</td>\n",
              "      <td>best food</td>\n",
              "      <td>unknown error</td>\n",
              "      <td>easy use app</td>\n",
              "      <td>get money back</td>\n",
              "    </tr>\n",
              "    <tr>\n",
              "      <th>6</th>\n",
              "      <td>7</td>\n",
              "      <td>amazing</td>\n",
              "      <td>uninstall</td>\n",
              "      <td>useful app</td>\n",
              "      <td>bad service</td>\n",
              "      <td>overall good experience</td>\n",
              "      <td>order got cancelled</td>\n",
              "    </tr>\n",
              "    <tr>\n",
              "      <th>7</th>\n",
              "      <td>8</td>\n",
              "      <td>fast</td>\n",
              "      <td>disappointed</td>\n",
              "      <td>great service</td>\n",
              "      <td>items ordered</td>\n",
              "      <td>thanks food panda</td>\n",
              "      <td>better use grab</td>\n",
              "    </tr>\n",
              "    <tr>\n",
              "      <th>8</th>\n",
              "      <td>9</td>\n",
              "      <td>improved</td>\n",
              "      <td>lousy</td>\n",
              "      <td>good service</td>\n",
              "      <td>food price</td>\n",
              "      <td>best food app</td>\n",
              "      <td>says unknown error</td>\n",
              "    </tr>\n",
              "    <tr>\n",
              "      <th>9</th>\n",
              "      <td>10</td>\n",
              "      <td>popping</td>\n",
              "      <td>worse</td>\n",
              "      <td>great experience</td>\n",
              "      <td>pick order</td>\n",
              "      <td>really good app</td>\n",
              "      <td>estimated delivery time</td>\n",
              "    </tr>\n",
              "  </tbody>\n",
              "</table>\n",
              "</div>"
            ],
            "text/plain": [
              "   id unigram_pos  ...              trigram_pos              trigram_neg\n",
              "0   1        easy  ...          easy order food           worst app ever\n",
              "1   2   excellent  ...         thank food panda      worst food delivery\n",
              "2   3        nice  ...           keep good work     bad customer service\n",
              "3   4       great  ...             app easy use    poor customer service\n",
              "4   5        best  ...       best food delivery   worst customer service\n",
              "5   6        love  ...             easy use app           get money back\n",
              "6   7     amazing  ...  overall good experience      order got cancelled\n",
              "7   8        fast  ...        thanks food panda          better use grab\n",
              "8   9    improved  ...            best food app       says unknown error\n",
              "9  10     popping  ...          really good app  estimated delivery time\n",
              "\n",
              "[10 rows x 7 columns]"
            ]
          },
          "metadata": {},
          "execution_count": 75
        }
      ]
    },
    {
      "cell_type": "code",
      "metadata": {
        "colab": {
          "base_uri": "https://localhost:8080/"
        },
        "id": "AsNTa8yvJiGR",
        "outputId": "0127e772-38fb-4dc7-c4f5-ec4f97dd9e90"
      },
      "source": [
        "# determining the name of the file\n",
        "file_name = 'top10_ngram.xlsx'\n",
        "  \n",
        "# saving the excel\n",
        "top10.to_excel(file_name)\n",
        "print('DataFrame is written to Excel File successfully.')"
      ],
      "execution_count": null,
      "outputs": [
        {
          "output_type": "stream",
          "name": "stdout",
          "text": [
            "DataFrame is written to Excel File successfully.\n"
          ]
        }
      ]
    }
  ]
}